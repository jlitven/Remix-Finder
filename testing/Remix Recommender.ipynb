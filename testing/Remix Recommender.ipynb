{
 "cells": [
  {
   "cell_type": "code",
   "execution_count": null,
   "metadata": {
    "collapsed": false
   },
   "outputs": [],
   "source": [
    "# Authenticate user\n",
    "import spotipy\n",
    "import spotipy.util as util\n",
    "\n",
    "def get_token(scope):\n",
    "    token = util.prompt_for_user_token(\n",
    "            username='1212629687',\n",
    "            scope=scope,\n",
    "            client_id='e74c52988f6d4bcebb36970a423d348d',\n",
    "            client_secret='0edc87deae1a4611a97b6cebef262136',\n",
    "            redirect_uri='http://localhost:8888/callback')\n",
    "    return token\n",
    "token = get_token(scope='user-top-read')\n",
    "if token:\n",
    "    sp = spotipy.Spotify(auth=token)"
   ]
  },
  {
   "cell_type": "code",
   "execution_count": null,
   "metadata": {
    "collapsed": true
   },
   "outputs": [],
   "source": [
    "# Experiment\n",
    "# Get user's top artists\n",
    "# Part 1: Function\n",
    "def get_users_top_artists(limit=20):\n",
    "    results = sp.current_user_top_artists(limit=limit, offset=0, time_range='medium_term')\n",
    "    return results['items']"
   ]
  },
  {
   "cell_type": "code",
   "execution_count": 155,
   "metadata": {
    "collapsed": false
   },
   "outputs": [
    {
     "name": "stdout",
     "output_type": "stream",
     "text": [
      "The Go! Team\n",
      "Starcadian\n",
      "Daft Punk\n",
      "Gramatik\n",
      "Ulises Conti\n",
      "Pretty Lights\n",
      "The New Division\n",
      "Vulfpeck\n",
      "Battle Tapes\n",
      "Moby\n",
      "Big Black Delta\n",
      "The Polish Ambassador\n",
      "Death In Vegas\n",
      "Lone\n",
      "Low Motion Disco\n",
      "Nils Frahm\n",
      "18 Carat Affair\n",
      "Cash+David\n",
      "The La's\n",
      "Beat Connection\n"
     ]
    }
   ],
   "source": [
    "# Part 2: Print\n",
    "for artist in get_users_top_artists():\n",
    "    print artist['name']"
   ]
  },
  {
   "cell_type": "code",
   "execution_count": 158,
   "metadata": {
    "collapsed": true
   },
   "outputs": [],
   "source": [
    "# Experiment\n",
    "# Part 1: Get related artists\n",
    "def get_related_artists(artist):\n",
    "    return sp.artist_related_artists(artist[u'id'])"
   ]
  },
  {
   "cell_type": "code",
   "execution_count": 157,
   "metadata": {
    "collapsed": true
   },
   "outputs": [],
   "source": [
    "related_artists = {}\n",
    "for artist in get_users_top_artists():\n",
    "    related_artists[artist['name']] = get_related_artists(artist)"
   ]
  },
  {
   "cell_type": "code",
   "execution_count": 159,
   "metadata": {
    "collapsed": false
   },
   "outputs": [
    {
     "name": "stdout",
     "output_type": "stream",
     "text": [
      "Daft Punk\n",
      "[u'Justice', u'Cassius', u'The Chemical Brothers', u'Basement Jaxx', u'Kavinsky', u'Calvin Harris', u'Vitalic', u'MSTRKRFT', u'David Guetta', u'Gorillaz', u'Mr. Oizo', u'Digitalism', u'The Bloody Beetroots', u'Mylo', u'Moby', u'Soulwax', u'deadmau5', u'R\\xf6yksopp', u'The Prodigy', u'Fatboy Slim']\n",
      "Big Black Delta\n",
      "[u'Austra', u'White Sea', u'Class Actress', u'Young Galaxy', u'Superhumanoids', u'MNDR', u'WIN WIN', u'Twin Shadow', u'Glasser', u'Exitmusic', u'Fol Chen', u'Zambri', u'Chromatics', u'Born Gold', u'Gardens & Villa', u'Active Child', u'Young Magic', u'Small Black', u'Hooray For Earth', u'I Break Horses']\n",
      "Beat Connection\n",
      "[u'Chad Valley', u'Kisses', u'Brothertiger', u'Lemonade', u'Millionyoung', u'Work Drugs', u'Tanlines', u'Summer Heart', u'Teen Daze', u'Blackbird Blackbird', u'Small Black', u'Javelin', u'Craft Spells', u'Porcelain Raft', u'Keep Shelly In Athens', u'Memory Tapes', u'Body Language', u'Clive Tanaka y su orquesta', u'Hooray For Earth', u'Neon Indian']\n",
      "The La's\n",
      "[u'Happy Mondays', u'James', u'The Stone Roses', u'Supergrass', u'Ocean Colour Scene', u'The Charlatans', u'Primal Scream', u'Ian Brown', u'Paul Weller', u'Blur', u'Pulp', u'The Coral', u'The Verve', u'Manic Street Preachers', u'Inspiral Carpets', u'Richard Ashcroft', u'Cornershop', u'Kula Shaker', u'Cast', u'The Bluetones']\n",
      "The Polish Ambassador\n",
      "[u'Eliot Lipp', u'Michal Menert', u'Pretty Lights', u'Tipper', u'Beats Antique', u'Copy', u'Opiuo', u'PANTyRAiD', u'BoomBox', u'Break Science', u'Paul Basic', u'ill.gates', u'Paper Diamond', u'Random Rab', u'Ill-Esha', u'Heyoka', u'An-Ten-Nae', u'EOTO', u'VibeSquaD', u'Big Gigantic']\n",
      "Starcadian\n",
      "[u'Lazerhawk', u'Le Matos', u'Carpenter Brut', u'Perturbator', u'Magic Sword', u'Scattle', u'Makeup And Vanity Set', u'Miami Nights 1984', u'Dance With the Dead', u'Mitch Murder', u'EchoDroides', u'Power Glove', u'Infinity Shred', u'Pilotpriest', u'El Huervo', u'Mogi Grumbles', u'Lost Years', u'Jordan F', u'Flashworx', u'Arcade High']\n",
      "The New Division\n",
      "[u'Class Actress', u'Chad Valley', u'Young Galaxy', u'Keep Shelly In Athens', u'Work Drugs', u'Summer Heart', u'Labyrinth Ear', u'Brothertiger', u'Porcelain Raft', u'Hooray For Earth', u'Beat Connection', u'Silver Swans', u'Computer Magic', u'Millionyoung', u'Kisses', u'I Break Horses', u'Lemonade', u'Teen Daze', u'Small Black', u'Memoryhouse']\n",
      "The Go! Team\n",
      "[u'Los Campesinos!', u'The Rapture', u'Clap Your Hands Say Yeah', u'Black Kids', u'The Spinto Band', u'Architecture In Helsinki', u'Tom Vek', u'The Big Pink', u'Art Brut', u'Of Montreal', u'CSS', u'LCD Soundsystem', u'The New Pornographers', u'Late of the Pier', u'TV On The Radio', u'The Raveonettes', u'The Unicorns', u'The Apples In Stereo', u'Fujiya & Miyagi', u'Peter Bjorn and John']\n",
      "Pretty Lights\n",
      "[u'Big Gigantic', u'Gramatik', u'Bassnectar', u'Emancipator', u'PANTyRAiD', u'Michal Menert', u'The Glitch Mob', u'Eliot Lipp', u'Paper Diamond', u'Beats Antique', u'Blockhead', u'Opiuo', u'The Polish Ambassador', u'Tipper', u'Ronald Jenkees', u'Bonobo', u'Little People', u'RJD2', u'ill.gates', u'Eskmo']\n",
      "Death In Vegas\n",
      "[u'UNKLE', u'Massive Attack', u'Tricky', u'The Chemical Brothers', u'Leftfield', u'Propellerheads', u'Underworld', u'Primal Scream', u'Lemon Jelly', u'Sneaker Pimps', u'Orbital', u'David Holmes', u'Moby', u'Groove Armada', u'Air', u'The Avalanches', u'Portishead', u'R\\xf6yksopp', u'I Monster', u'Mint Royale']\n",
      "Lone\n",
      "[u'Lukid', u'Machinedrum', u'Dorian Concept', u'Actress', u'FaltyDL', u'Teebs', u'Slugabed', u'Shigeto', u'Sepalcure', u'letherette', u'Illum Sphere', u'Harmonic 313', u'Samiyam', u'Mike Slott', u'Nosaj Thing', u'Zomby', u'Dimlite', u'Shlohmo', u'Flying Lotus', u'Lapalux']\n",
      "Nils Frahm\n",
      "[u'Goldmund', u'Max Richter', u'A Winged Victory for the Sullen', u'Library Tapes', u'J\\xf3hann J\\xf3hannsson', u\"Dustin O'Halloran\", u'Hauschka', u'Greg Haines', u'\\xd3lafur Arnalds', u'Sylvain Chauveau', u'Peter Broderick', u'Julia Kent', u'Danny Norbury', u'Rachel Grimes', u'Clem Leek', u'Deaf Center', u'Rafael Anton Irisarri', u'Valgeir Sigur\\xf0sson', u'Eluvium', u'Balmorhea']\n",
      "Gramatik\n",
      "[u'Pretty Lights', u'Wax Tailor', u'Blockhead', u'RJD2', u'Emancipator', u'Metaform', u'DJ Shadow', u'Michal Menert', u'Chinese Man', u'Little People', u'Beats Antique', u'Nightmares On Wax', u'Free The Robots', u'Bonobo', u'Eliot Lipp', u'Mr. Scruff', u'Ancient Astronauts', u'Blue Sky Black Death', u'Onra', u'JK Soul']\n",
      "Cash+David\n",
      "[u'Zola Blood', u'Brolin', u'Wyles & Simpson', u'H\\xc6LOS', u'Sea Moya', u'Chi', u'Frett', u'Young War', u'Liu Bei', u'Akiine', u'Stay Bless', u'Lanks', u'Apidae', u'Nick Hill', u'Fine Print', u'FAVELA', u'Oslo Parks', u'Atella', u'Doe Paoro', u'Wildhart']\n",
      "Moby\n",
      "[u'Underworld', u'The Chemical Brothers', u'Massive Attack', u'R\\xf6yksopp', u'Groove Armada', u'Leftfield', u'Faithless', u'Air', u'Moloko', u'Orbital', u'Kosheen', u'Propellerheads', u'Fluke', u'Basement Jaxx', u'Sneaker Pimps', u'Tricky', u'Fatboy Slim', u'Apollo 440', u'The Orb', u'Hooverphonic']\n",
      "Ulises Conti\n",
      "[u'Danny Norbury', u'Rachel Grimes', u'A Winged Victory for the Sullen', u'Christopher Tignor', u'Julia Kent', u'Sylvain Chauveau', u'Oliveray', u'Anna Rose Carter', u'Sophie Hutchings', u'Rafael Anton Irisarri', u'Library Tapes', u'Valgeir Sigur\\xf0sson', u'Carlos Cipa', u'Greg Haines', u'David Wenngren', u'Akira Kosemura', u'Alex Kozobolis', u\"Rachel's\", u'Bing & Ruth', u'Nils Frahm']\n",
      "Low Motion Disco\n",
      "[u'Lindstr\\xf8m & Prins Thomas', u'Windsurf', u'Ray Mang', u'Bottin', u'Still Going', u'Al Usher', u'Peter Visti', u'Woolfy vs Projections', u'Hatchback', u'40 Thieves', u'Diskjokke', u'Kathy Diamond', u'Idjut Boys', u'Meanderthals', u'Smith & Mudd', u'Lindstr\\xf8m', u'Acos CoolKAs', u'Mudd', u'Bubble Club', u'San Serac']\n",
      "Battle Tapes\n",
      "[u'Age of Consent', u'Living Days', u'Tony Castles', u'HEALTH', u'EchoDroides', u'Light Light', u'Transistorcake', u'Kauf', u'The Chain Gang Of 1974', u'Gunship', u'DJ Oguretz', u'M|O|O|N', u'A Million Billion Dying Suns', u'Favored Nations', u'Starcadian', u'Daemon Hatfield', u'Carpenter Brut', u'Maximum Love', u'Spiedkiks', u'Evan Ball']\n",
      "18 Carat Affair\n",
      "[u'Persona La Ave', u'Teams', u'Jacob 2-2', u'Teamm Jordann', u'luxury elite', u'ESPRIT \\u7a7a\\u60f3', u'Ssaliva', u'Monster Rally', u'Mensa Group International', u'Infinity Frequencies', u'Eyeliner', u'a i r s p o r t s', u'Corduroi', u'Navigateur', u'CYBEREALITY\\u30e9\\u30a4\\u30d5', u'Elite Gymnastics', u'\\ud68c\\uc0acAUTO', u'Nmesh', u'Casa del Mirto', u'Coyote Clean Up']\n",
      "Vulfpeck\n",
      "[u'Charles Bradley', u'The Suffers', u'Monophonics', u'JC Brooks & The Uptown Sound', u'Sharon Jones & The Dap-Kings', u'Fat Night', u'Bosley', u'Black Joe Lewis & The Honeybears', u'Maktub', u'Orgone', u'Booker T. Jones', u'Pimps of Joytime', u'EMEFE', u'Lee Fields & The Expressions', u'Equatics', u'Nick Waterhouse', u'Har Mar Superstar', u'The Meters', u'The Electric Peanut Butter Company', u'Lettuce']\n"
     ]
    }
   ],
   "source": [
    "# Part 2: Print artist and similar artists\n",
    "for key, val in related_artists.iteritems():\n",
    "    artist_name = key\n",
    "    similar_artists = val['artists']\n",
    "    similar_artist_names = [artist['name'] for artist in similar_artists]\n",
    "    print artist_name\n",
    "    print similar_artist_names"
   ]
  },
  {
   "cell_type": "code",
   "execution_count": 149,
   "metadata": {
    "collapsed": true
   },
   "outputs": [],
   "source": [
    "# Experiment\n",
    "# Part 1: Get artist remixes\n",
    "def get_remixes(artist, limit=50, offset=0):\n",
    "    # Returns the query searching for artist + remix\n",
    "    name = artist['name']\n",
    "    \n",
    "    def search_spotify_tracks(query):\n",
    "        results = sp.search(q=query, type='track', limit=limit, offset=offset)\n",
    "        tracks = [track for track in results['tracks']['items']]\n",
    "        return tracks\n",
    "     \n",
    "    remix_tracks = search_spotify_tracks('{} remix'.format(name))\n",
    "    return remix_tracks\n",
    "\n",
    "def get_all_remixes(artist):\n",
    "    all_remixes = []\n",
    "    offset = 0\n",
    "    limit = 50\n",
    "    while True:\n",
    "        remixes = get_remixes(artist, limit=limit, offset=offset)\n",
    "        if not remixes:\n",
    "            break\n",
    "        all_remixes.extend(remixes)\n",
    "        offset += limit\n",
    "    return all_remixes\n",
    "\n",
    "def get_tracks_remixed_by(artist):\n",
    "    # filter only tracks the artist has remixed\n",
    "    def artist_uris(track):\n",
    "        return [a['uri'] for a in track['artists']]\n",
    "    \n",
    "    #remixes = [remix for remix in get_remixes(artist)\n",
    "    #          if artist['uri'] not in remix['artists'][0]['uri']]\n",
    "    remixes = [remix for remix in get_remixes(artist)\n",
    "              if artist['name'] in remix['name']]\n",
    "    return remixes\n",
    "    \n",
    "def get_tracks_others_remixed(artist):\n",
    "    # filter tracks by the artist others have remixed \n",
    "    def artist_uris(track):\n",
    "        return [a['uri'] for a in track['artists']]\n",
    "    \n",
    "    remixes = [remix for remix in get_remixes(artist)\n",
    "               if artist['uri'] in remix['artists'][0]['uri']]\n",
    "    return remixes"
   ]
  },
  {
   "cell_type": "code",
   "execution_count": null,
   "metadata": {
    "collapsed": false
   },
   "outputs": [],
   "source": [
    "# Part 2: Print artist remixes \n",
    "# TODO: Add boards of canada test, should find 4\n",
    "for artist in get_users_top_artists():\n",
    "    remixes = get_all_remixes(artist)\n",
    "    print artist['name'] ,': ', [t['name'] for t in remixes]"
   ]
  },
  {
   "cell_type": "code",
   "execution_count": 137,
   "metadata": {
    "collapsed": false
   },
   "outputs": [
    {
     "name": "stdout",
     "output_type": "stream",
     "text": [
      "Boards of Canada\n",
      "[u'Last walk around mirror lake - Boards of Canada remix', u'Broken Drum - Remixed By Boards Of Canada', u'Mr Mistake (Boards Of Canada Remix)', u'Dayvan Cowboy (Odd Nosdam Remix)', u'Dead Dogs Two (Boards Of Canada Remix) - mixed', u'Dead Dogs Two - Boards of Canada remix', u'Kid For Today (Stereolab Mix)', u'Dead Dogs Two (Boards Of Canada Remix) - mixed', u'Poppy Seed (Boards Of Canada Remix)', u'Dayvan Cowboy (Remix)', u'Last walk around mirror lake - Boards of Canada remix', u'Sandsings (remixed by Boards of Canada)', u'An Eagle In Your Mind (Consumed And Regurgitated By The P.B.O.Ster!)', u'Poppy Seed (Reprise) (Boards Of Canada Remix)']\n"
     ]
    }
   ],
   "source": [
    "# Test\n",
    "# Find all remixes\n",
    "boc_uri = 'spotify:artist:2VAvhf61GgLYmC6C8anyX1'\n",
    "artist = sp.artist(boc_uri)\n",
    "remixes = get_all_remixes(artist)\n",
    "print artist['name']\n",
    "print [t['name'] for t in remixes]"
   ]
  },
  {
   "cell_type": "code",
   "execution_count": 147,
   "metadata": {
    "collapsed": false
   },
   "outputs": [
    {
     "name": "stdout",
     "output_type": "stream",
     "text": [
      "Daft Punk\n",
      "[u'Daft Punk-Derezzed - Remixed by The Glitch Mob', u'Daft Punk-Get Lucky - Daft Punk Remix', u'Daft Punk-Aerodynamic (Daft Punk Remix)', u'Daft Punk-Fall - Remixed by M83 VS Big Black Delta', u'Daft Punk-The Grid - Remixed by The Crystal Method', u'Daft Punk-Derezzed - Remixed by Avicii', u'Daft Punk-The Son of Flynn - Remixed by Moby', u'Daft Punk-Adagio for TRON - Remixed by Teddybears', u'Daft Punk-End of Line - Remixed by Photek', u'Daft Punk-The Son of Flynn - Remixed by Ki:Theory', u'Daft Punk-Solar Sailer - Remixed by Pretty Lights', u'Daft Punk-End of Line - Remixed by Boys Noize', u'Daft Punk-Rinzler - Remixed by Kaskade', u'Daft Punk-C.L.U. - Remixed by Paul Oakenfold', u'Daft Punk-Encom Part 2 - Remixed by Com Truise', u'Daft Punk-TRON Legacy (End Titles) - Remixed by Sander Kleinenberg', u'Daft Punk-Arena - Remixed by The Japanese Popstars', u'Daft Punk-Robot Rock - Soulwax Remix', u'Daft Punk-Human After All - SebastiAn Remix', u'Daft Punk-Harder Better Faster Stronger (The Neptunes Remix)', u'Daft Punk-Technologic - Peaches No Logic Remix', u'Daft Punk-Digital Love (Boris Dlugosh Remix)', u'Daft Punk-Human After All - \"Guy-Man After All \"- Justice Remix', u'Daft Punk-Prime Time of you Life - Para One Remix', u'Daft Punk-Face To Face (Cosmo VItelli Remix)', u'Daft Punk-Robot Rock - Daft Punk Maximum Overdrive Mix', u'Daft Punk-Technologic - Vitalic Remix', u'Daft Punk-Technologic - Knight club remix', u'Daft Punk-Phoenix (Basement Jaxx Remix)', u'Daft Punk-Human After All - Alter Ego Remix', u'Daft Punk-Aerodynamic (Slum Village Remix)', u'Daft Punk-Technologic - Liquid twins remix', u'Daft Punk-Face To Face (Demon Remix)', u'Daft Punk-Crescendolls (Laidback Remix)', u'Daft Punk-Human After All - The Juan Mclean Remix', u'Daft Punk-Technologic - Digitalism RMX', u\"Daft Punk-Brainwasher - Erol Alkan's Horrohouse dub\", u'Daft Punk-Technologic - Basement Jaxx Kontrol Mixx', u'Daft Punk-Human After All - Emperor Machine Version', u'Daft Punk-Harder Better Faster Stronger - Breakers Break Remix', u'Daft Punk-Harder Better Faster Stronger (The Neptunes Remix)', u'Daft Punk-Fall - (From \"TRON: Legacy\") [Japanese Popstars Remix]']\n"
     ]
    }
   ],
   "source": [
    "# Test\n",
    "# Find all artist tracks remixed by others\n",
    "boc_uri = 'spotify:artist:4tZwfgrHOc3mvqYlEYSvVi'\n",
    "artist = sp.artist(boc_uri)\n",
    "remixes = get_tracks_others_remixed(artist)\n",
    "print artist['name']\n",
    "print [t['artists'][0]['name'] + '-' + t['name'] for t in remixes]"
   ]
  },
  {
   "cell_type": "code",
   "execution_count": 154,
   "metadata": {
    "collapsed": false
   },
   "outputs": [
    {
     "name": "stdout",
     "output_type": "stream",
     "text": [
      "Soulwax\n",
      "[u'Tame Impala-Let It Happen - Soulwax Remix', u'Jungle-Julia (Soulwax Remix)', u\"The Rolling Stones-You Can't Always Get What You Want (Soulwax Remix) - Remix\", u'Daft Punk-Robot Rock - Soulwax Remix', u'Gorillaz-DARE - Soulwax Remix', u'Gorillaz-DARE - Soulwax Remix', u'Joe Goddard-Gabriel - Soulwax Remix', u'Hot Chip-Huarache Lights - Soulwax Remix', u'Muse-Muscle Museum [Soulwax Remix]', u'Justice-Phantom Pt II - Soulwax Remix', u'Hot Chip-Huarache Lights - Soulwax Remix', u'LCD Soundsystem-Get Innocuous! - Soulwax Remix', u'LCD Soundsystem-You Wanted A Hit - Soulwax Remix', u'Gorillaz-DARE - Soulwax Remix', u'Ladytron-Seventeen - Soulwax Mix', u'Hot Chip-Huarache Lights - Soulwax Remix', u'Late of the Pier-Best in The Class - Soulwax Remix', u'LCD Soundsystem-Get Innocuous! - Soulwax Remix', u'Ladytron-Seventeen - Soulwax Mix', u'Justice-Phantom Pt II - Soulwax Remix', u'Zita Swoon-My Bond With You and Your Planet: Disoc! - Soulwax Remix']\n"
     ]
    }
   ],
   "source": [
    "# Test\n",
    "# Find all tracks remixed by artist\n",
    "boc_uri = 'spotify:artist:43mWhBXSflupNLuNjM5vff'\n",
    "artist = sp.artist(boc_uri)\n",
    "remixes = get_tracks_remixed_by(artist)\n",
    "print artist['name']\n",
    "print [t['artists'][0]['name'] + '-' + t['name'] for t in remixes]"
   ]
  },
  {
   "cell_type": "code",
   "execution_count": 151,
   "metadata": {
    "collapsed": true
   },
   "outputs": [],
   "source": [
    "remix = remixes[0]"
   ]
  },
  {
   "cell_type": "code",
   "execution_count": 153,
   "metadata": {
    "collapsed": false
   },
   "outputs": [
    {
     "data": {
      "text/plain": [
       "u'Daft Punk / Skrillex (Remix)'"
      ]
     },
     "execution_count": 153,
     "metadata": {},
     "output_type": "execute_result"
    }
   ],
   "source": [
    "remix['name']"
   ]
  },
  {
   "cell_type": "code",
   "execution_count": null,
   "metadata": {
    "collapsed": true
   },
   "outputs": [],
   "source": []
  }
 ],
 "metadata": {
  "kernelspec": {
   "display_name": "Python 2",
   "language": "python",
   "name": "python2"
  },
  "language_info": {
   "codemirror_mode": {
    "name": "ipython",
    "version": 2
   },
   "file_extension": ".py",
   "mimetype": "text/x-python",
   "name": "python",
   "nbconvert_exporter": "python",
   "pygments_lexer": "ipython2",
   "version": "2.7.11"
  }
 },
 "nbformat": 4,
 "nbformat_minor": 0
}
