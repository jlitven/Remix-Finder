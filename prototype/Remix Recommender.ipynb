{
 "cells": [
  {
   "cell_type": "code",
   "execution_count": null,
   "metadata": {
    "collapsed": false
   },
   "outputs": [],
   "source": [
    "# Authenticate user\n",
    "import spotipy\n",
    "import spotipy.util as util\n",
    "\n",
    "def get_token(scope):\n",
    "    token = util.prompt_for_user_token(\n",
    "            username='',\n",
    "            scope=scope,\n",
    "            client_id='e74c52988f6d4bcebb36970a423d348d',\n",
    "            client_secret='0edc87deae1a4611a97b6cebef262136',\n",
    "            redirect_uri='http://localhost:8888/callback')\n",
    "    return token\n",
    "token = get_token(scope='user-top-read')\n",
    "if token:\n",
    "    sp = spotipy.Spotify(auth=token)"
   ]
  },
  {
   "cell_type": "code",
   "execution_count": null,
   "metadata": {
    "collapsed": true
   },
   "outputs": [],
   "source": [
    "# Experiment\n",
    "# Get user's profile information\n",
    "profile = sp.current_user()"
   ]
  },
  {
   "cell_type": "code",
   "execution_count": null,
   "metadata": {
    "collapsed": false
   },
   "outputs": [],
   "source": [
    "print [u'\\u201impo"
   ]
  },
  {
   "cell_type": "code",
   "execution_count": null,
   "metadata": {
    "collapsed": false
   },
   "outputs": [],
   "source": [
    "# Experiment\n",
    "# Get user's top artists\n",
    "# Part 1: Function\n",
    "def get_users_top_artists(limit=20, offset=0, time_range='long_term'):\n",
    "    results = sp.current_user_top_artists(limit=limit, offset=offset, time_range=time_range)\n",
    "    return results['items']\n",
    "\n",
    "def get_all_users_top_artists(num_artists=50):\n",
    "    num_artists = min(num_artists, 50)\n",
    "    artists = []\n",
    "    chunk_size = 20\n",
    "    for index in range(0, num_artists, chunk_size):\n",
    "        artists.extend(get_users_top_artists(limit=chunk_size, offset=index))\n",
    "    return artists"
   ]
  },
  {
   "cell_type": "code",
   "execution_count": null,
   "metadata": {
    "collapsed": false
   },
   "outputs": [],
   "source": [
    "# Part 2: Print\n",
    "for artist in get_users_top_artists(time_range='long_term'):\n",
    "    print artist['name']"
   ]
  },
  {
   "cell_type": "code",
   "execution_count": null,
   "metadata": {
    "collapsed": true
   },
   "outputs": [],
   "source": [
    "# Experiment\n",
    "# Part 1: Get related artists\n",
    "def get_related_artists(artist):\n",
    "    return sp.artist_related_artists(artist[u'id'])"
   ]
  },
  {
   "cell_type": "code",
   "execution_count": null,
   "metadata": {
    "collapsed": false
   },
   "outputs": [],
   "source": [
    "related_artists = {}\n",
    "for artist in get_users_top_artists():\n",
    "    related_artists[artist['name']] = get_related_artists(artist)"
   ]
  },
  {
   "cell_type": "code",
   "execution_count": null,
   "metadata": {
    "collapsed": false
   },
   "outputs": [],
   "source": [
    "Parallel(n_jobs=4)"
   ]
  },
  {
   "cell_type": "code",
   "execution_count": null,
   "metadata": {
    "collapsed": false
   },
   "outputs": [],
   "source": [
    "# Part 2: Print artist and similar artists\n",
    "for key, val in related_artists.iteritems():\n",
    "    artist_name = key\n",
    "    similar_artists = val['artists']\n",
    "    similar_artist_names = [artist['name'] for artist in similar_artists]\n",
    "    print artist_name\n",
    "    print similar_artist_names"
   ]
  },
  {
   "cell_type": "code",
   "execution_count": null,
   "metadata": {
    "collapsed": true
   },
   "outputs": [],
   "source": [
    "# Experiment\n",
    "# Part 1: Get artist remixes\n",
    "def get_remixes(artist, limit=50, offset=0):\n",
    "    # Returns the query searching for artist + remix\n",
    "    name = artist['name']\n",
    "    \n",
    "    def search_spotify_tracks(query):\n",
    "        results = sp.search(q=query, type='track', limit=limit, offset=offset)\n",
    "        tracks = [track for track in results['tracks']['items']]\n",
    "        return tracks\n",
    "     \n",
    "    remix_tracks = search_spotify_tracks('{} remix'.format(name))\n",
    "    return remix_tracks\n",
    "\n",
    "def get_all_remixes(artist):\n",
    "    all_remixes = []\n",
    "    offset = 0\n",
    "    limit = 50\n",
    "    while True:\n",
    "        remixes = get_remixes(artist, limit=limit, offset=offset)\n",
    "        if not remixes:\n",
    "            break\n",
    "        all_remixes.extend(remixes)\n",
    "        offset += limit\n",
    "    return all_remixes\n",
    "\n",
    "def get_tracks_remixed_by(artist):\n",
    "    # filter only tracks the artist has remixed\n",
    "    def artist_uris(track):\n",
    "        return [a['uri'] for a in track['artists']]\n",
    "    \n",
    "    #remixes = [remix for remix in get_remixes(artist)\n",
    "    #          if artist['uri'] not in remix['artists'][0]['uri']]\n",
    "    remixes = [remix for remix in get_remixes(artist)\n",
    "              if artist['name'] in remix['name']]\n",
    "    return remixes\n",
    "    \n",
    "def get_tracks_others_remixed(artist):\n",
    "    # filter tracks by the artist others have remixed \n",
    "    def artist_uris(track):\n",
    "        return [a['uri'] for a in track['artists']]\n",
    "    \n",
    "    remixes = [remix for remix in get_remixes(artist)\n",
    "               if artist['uri'] in remix['artists'][0]['uri']]\n",
    "    return remixes"
   ]
  },
  {
   "cell_type": "code",
   "execution_count": null,
   "metadata": {
    "collapsed": false
   },
   "outputs": [],
   "source": [
    "# Part 2: Print artist remixes \n",
    "# TODO: Add boards of canada test, should find 4\n",
    "for artist in get_users_top_artists():\n",
    "    remixes = get_all_remixes(artist)\n",
    "    print artist['name'] ,': ', [t['name'] for t in remixes]"
   ]
  },
  {
   "cell_type": "code",
   "execution_count": null,
   "metadata": {
    "collapsed": false
   },
   "outputs": [],
   "source": [
    "# Test\n",
    "# Find all remixes\n",
    "boc_uri = 'spotify:artist:2VAvhf61GgLYmC6C8anyX1'\n",
    "artist = sp.artist(boc_uri)\n",
    "remixes = get_all_remixes(artist)\n",
    "print artist['name']\n",
    "print [t['name'] for t in remixes]"
   ]
  },
  {
   "cell_type": "code",
   "execution_count": null,
   "metadata": {
    "collapsed": false
   },
   "outputs": [],
   "source": [
    "# Test\n",
    "# Find all artist tracks remixed by others\n",
    "boc_uri = 'spotify:artist:4tZwfgrHOc3mvqYlEYSvVi'\n",
    "artist = sp.artist(boc_uri)\n",
    "remixes = get_tracks_others_remixed(artist)\n",
    "print artist['name']\n",
    "print [t['artists'][0]['name'] + '-' + t['name'] for t in remixes]"
   ]
  },
  {
   "cell_type": "code",
   "execution_count": null,
   "metadata": {
    "collapsed": false
   },
   "outputs": [],
   "source": [
    "# Test\n",
    "# Find all tracks remixed by artist\n",
    "boc_uri = 'spotify:artist:43mWhBXSflupNLuNjM5vff'\n",
    "artist = sp.artist(boc_uri)\n",
    "remixes = get_tracks_remixed_by(artist)\n",
    "print artist['name']\n",
    "print [t['artists'][0]['name'] + '-' + t['name'] for t in remixes]"
   ]
  },
  {
   "cell_type": "code",
   "execution_count": null,
   "metadata": {
    "collapsed": false
   },
   "outputs": [],
   "source": [
    "# Experiment\n",
    "# Compare function performance with and without multiprocessingipcluster start -n 4"
   ]
  },
  {
   "cell_type": "code",
   "execution_count": null,
   "metadata": {
    "collapsed": false
   },
   "outputs": [],
   "source": [
    "$ ipcluster start -n 4"
   ]
  },
  {
   "cell_type": "code",
   "execution_count": null,
   "metadata": {
    "collapsed": true
   },
   "outputs": [],
   "source": []
  },
  {
   "cell_type": "code",
   "execution_count": null,
   "metadata": {
    "collapsed": false
   },
   "outputs": [],
   "source": [
    "t['name']"
   ]
  },
  {
   "cell_type": "raw",
   "metadata": {
    "collapsed": false
   },
   "source": [
    "remix['name']"
   ]
  },
  {
   "cell_type": "code",
   "execution_count": null,
   "metadata": {
    "collapsed": false
   },
   "outputs": [],
   "source": [
    "class Test(dict):\n",
    "    \n",
    "    def __init__(self, a):\n",
    "        dict.__init__(self, a)\n",
    "    \n",
    "    def cool_method(self):\n",
    "        print 'hello world'\n",
    "        \n",
    "    def __str__(self):\n",
    "        return ' '.join(self.keys())\n",
    "a['awefaew'] = 2\n",
    "b = Test(a)"
   ]
  },
  {
   "cell_type": "code",
   "execution_count": null,
   "metadata": {
    "collapsed": false
   },
   "outputs": [],
   "source": [
    "b.cool_method()"
   ]
  },
  {
   "cell_type": "code",
   "execution_count": null,
   "metadata": {
    "collapsed": false
   },
   "outputs": [],
   "source": [
    "a.keys()"
   ]
  },
  {
   "cell_type": "code",
   "execution_count": null,
   "metadata": {
    "collapsed": false
   },
   "outputs": [],
   "source": [
    "print b"
   ]
  },
  {
   "cell_type": "code",
   "execution_count": null,
   "metadata": {
    "collapsed": false
   },
   "outputs": [],
   "source": [
    "b.awefaew"
   ]
  },
  {
   "cell_type": "code",
   "execution_count": null,
   "metadata": {
    "collapsed": false
   },
   "outputs": [],
   "source": [
    "import os\n",
    "import sys\n",
    "sys.path.append('/Users/alexanderlitven/Projects/remix_finder/src')"
   ]
  },
  {
   "cell_type": "code",
   "execution_count": null,
   "metadata": {
    "collapsed": false
   },
   "outputs": [],
   "source": [
    "from spotify_adaptors import User, Artist, Track\n",
    "reload(spotify_adaptors)\n",
    "u = User()"
   ]
  },
  {
   "cell_type": "code",
   "execution_count": null,
   "metadata": {
    "collapsed": false
   },
   "outputs": [],
   "source": [
    "top_artists = u.get_top_artists()"
   ]
  },
  {
   "cell_type": "code",
   "execution_count": null,
   "metadata": {
    "collapsed": false
   },
   "outputs": [],
   "source": [
    "print([str(item) for item in top_artists])"
   ]
  },
  {
   "cell_type": "code",
   "execution_count": null,
   "metadata": {
    "collapsed": false
   },
   "outputs": [],
   "source": [
    "for artist in top_artists:\n",
    "    print artist, \"top tracks:\"\n",
    "    top_tracks = artist.get_top_tracks()\n",
    "    print [str(t) for t in top_tracks]"
   ]
  },
  {
   "cell_type": "code",
   "execution_count": null,
   "metadata": {
    "collapsed": false
   },
   "outputs": [],
   "source": [
    "# Experiment\n",
    "# Compare performance of parallel and non-parallel\n",
    "# tasks for getting related artists\n",
    "from joblib import Parallel, delayed\n",
    "\n",
    "artists = get_all_users_top_artists(100)\n",
    "\n",
    "def get_related(artists):\n",
    "    return [get_related_artists(a) for a in artists] \n",
    "\n",
    "def get_related_parallel(artists):\n",
    "    return Parallel(n_jobs=8)(delayed(get_related_artists) (a) for a in artists)"
   ]
  },
  {
   "cell_type": "code",
   "execution_count": null,
   "metadata": {
    "collapsed": false
   },
   "outputs": [],
   "source": [
    "#%time related_artists = get_related(artists)\n",
    "%time related_artists = get_related_parallel(artists)"
   ]
  },
  {
   "cell_type": "code",
   "execution_count": null,
   "metadata": {
    "collapsed": false
   },
   "outputs": [],
   "source": [
    "artist_names = []\n",
    "for a in related_artists:\n",
    "    #print a['artists'][0]['name']\n",
    "    for r in a['artists']:\n",
    "        artist_names.append(r['name'])"
   ]
  },
  {
   "cell_type": "code",
   "execution_count": null,
   "metadata": {
    "collapsed": false
   },
   "outputs": [],
   "source": [
    "from collections import Counter\n",
    "\n",
    "artist_count = Counter(artist_names)\n",
    "artist_count.most_common(10)"
   ]
  },
  {
   "cell_type": "code",
   "execution_count": null,
   "metadata": {
    "collapsed": false
   },
   "outputs": [],
   "source": [
    "len(artist_names)"
   ]
  },
  {
   "cell_type": "code",
   "execution_count": null,
   "metadata": {
    "collapsed": false
   },
   "outputs": [],
   "source": [
    "artists = get_all_users_top_artists(100)\n",
    "len(artists)"
   ]
  },
  {
   "cell_type": "code",
   "execution_count": null,
   "metadata": {
    "collapsed": false
   },
   "outputs": [],
   "source": [
    "# Test\n",
    "# Transform spotify functions with limits\n",
    "# Into unlimited\n",
    "def fake_spotify_function(arg_0='start', limit=10, offset=0, arg_1='cool', arg_2='hehe'):\n",
    "    for i in range(offset, offset+limit):\n",
    "        print arg_0 + arg_1 + arg_2 + str(i)\n",
    "        \n",
    "def get_results(spotify_func, limit, num_results, **vargs):\n",
    "    for i in range(0, num_results, limit):\n",
    "        spotify_func(limit=limit, offset=i, **vargs)"
   ]
  },
  {
   "cell_type": "code",
   "execution_count": null,
   "metadata": {
    "collapsed": false
   },
   "outputs": [],
   "source": [
    "get_results(fake_spotify_function, 10, 20, arg_0='end', arg_1='hi', arg_2='lol')"
   ]
  },
  {
   "cell_type": "code",
   "execution_count": null,
   "metadata": {
    "collapsed": false
   },
   "outputs": [],
   "source": [
    "import spotify_adaptors\n",
    "reload(spotify_adaptors)\n",
    "from spotify_adaptors import Artist, User\n",
    "artist = Artist.create_from_query('daft punk')"
   ]
  },
  {
   "cell_type": "code",
   "execution_count": null,
   "metadata": {
    "collapsed": false
   },
   "outputs": [],
   "source": [
    "user = User.create_from_scope('user-top-read')\n",
    "artists = user.get_top_artists()[:20]  # TODO: Add similar artists\n",
    "\n",
    "artist_remixes = []\n",
    "artist_tracks_others_remixed = []\n",
    "\n",
    "for artist in artists:\n",
    "    print artist\n",
    "    remixes = artist.get_remixes()\n",
    "    other_artists_remixed = artist.get_tracks_others_remixed()\n",
    "    artist_remixes.extend(remixes)\n",
    "    artist_tracks_others_remixed.extend(other_artists_remixed)\n",
    "\n",
    "remix_uris = set([r.uri for r in artist_remixes])\n",
    "other_remixed_uris = set([r.uri for r in artist_tracks_others_remixed])\n",
    "\n",
    "recommended_uris = remix_uris & other_remixed_uris\n",
    "\n",
    "recommended_remixes = [r for r in artist_remixes if r.uri in recommended_uris]"
   ]
  },
  {
   "cell_type": "code",
   "execution_count": null,
   "metadata": {
    "collapsed": false
   },
   "outputs": [],
   "source": [
    "for r in recommended_remixes:\n",
    "    print r"
   ]
  },
  {
   "cell_type": "code",
   "execution_count": null,
   "metadata": {
    "collapsed": false
   },
   "outputs": [],
   "source": [
    "pretty_lights = artists[4]"
   ]
  },
  {
   "cell_type": "code",
   "execution_count": null,
   "metadata": {
    "collapsed": false
   },
   "outputs": [],
   "source": [
    "pretty_lights_remixes = pretty_lights.get_remixes()"
   ]
  },
  {
   "cell_type": "code",
   "execution_count": null,
   "metadata": {
    "collapsed": false
   },
   "outputs": [],
   "source": [
    "print [r.name for r in remixes if 'Daft' in r.artist.name]"
   ]
  },
  {
   "cell_type": "code",
   "execution_count": null,
   "metadata": {
    "collapsed": true
   },
   "outputs": [],
   "source": [
    "daft_punk = artists[1]\n",
    "daft_punk_others = daft_punk.get_tracks_others_remixed()"
   ]
  },
  {
   "cell_type": "code",
   "execution_count": null,
   "metadata": {
    "collapsed": false
   },
   "outputs": [],
   "source": [
    "print [r.name for r in others if 'Lights' in r.name]"
   ]
  },
  {
   "cell_type": "code",
   "execution_count": null,
   "metadata": {
    "collapsed": false
   },
   "outputs": [],
   "source": [
    "import spotify_adaptors\n",
    "reload(spotify_adaptors)\n",
    "from spotify_adaptors import Artist\n",
    "artist = Artist.create_from_query('boards of canada')\n",
    "remixes = artist.get_remixes()"
   ]
  },
  {
   "cell_type": "code",
   "execution_count": null,
   "metadata": {
    "collapsed": false
   },
   "outputs": [],
   "source": [
    "related_artists = artist.get_related_artists()"
   ]
  },
  {
   "cell_type": "code",
   "execution_count": null,
   "metadata": {
    "collapsed": false
   },
   "outputs": [],
   "source": [
    "len(related_artists)"
   ]
  },
  {
   "cell_type": "code",
   "execution_count": null,
   "metadata": {
    "collapsed": false
   },
   "outputs": [],
   "source": [
    "related_remixes = []\n",
    "for rel_artist in related_artists:\n",
    "    print rel_artist\n",
    "    remixes = rel_artist.get_remixes()\n",
    "    related_remixes.extend(remixes)"
   ]
  },
  {
   "cell_type": "code",
   "execution_count": null,
   "metadata": {
    "collapsed": false
   },
   "outputs": [],
   "source": [
    "clark = related_artists[8]\n",
    "remixes = clark.get_remixes()"
   ]
  },
  {
   "cell_type": "code",
   "execution_count": null,
   "metadata": {
    "collapsed": false
   },
   "outputs": [],
   "source": [
    "len(remixes)"
   ]
  },
  {
   "cell_type": "code",
   "execution_count": null,
   "metadata": {
    "collapsed": false
   },
   "outputs": [],
   "source": [
    "related_remixes.sort(key=lambda r: r.popularity, reverse=True)\n",
    "for t in related_remixes:\n",
    "    print t.__str__(), t.popularity"
   ]
  },
  {
   "cell_type": "code",
   "execution_count": null,
   "metadata": {
    "collapsed": false
   },
   "outputs": [],
   "source": [
    "import spotify_adaptors\n",
    "reload(spotify_adaptors)\n",
    "from spotify_adaptors import User\n",
    "user = User.create_from_scope('playlist-modify-public')"
   ]
  },
  {
   "cell_type": "code",
   "execution_count": null,
   "metadata": {
    "collapsed": false
   },
   "outputs": [],
   "source": [
    "from spotify_adaptors import Track"
   ]
  },
  {
   "cell_type": "code",
   "execution_count": null,
   "metadata": {
    "collapsed": false
   },
   "outputs": [],
   "source": [
    "t = Track.create_from_query('fake plastic trees')"
   ]
  },
  {
   "cell_type": "code",
   "execution_count": null,
   "metadata": {
    "collapsed": false
   },
   "outputs": [],
   "source": [
    "user.create_playlist([t], 'test_playlist')"
   ]
  },
  {
   "cell_type": "code",
   "execution_count": null,
   "metadata": {
    "collapsed": false
   },
   "outputs": [],
   "source": [
    "for i in range(0,10,10):\n",
    "    print i"
   ]
  },
  {
   "cell_type": "code",
   "execution_count": null,
   "metadata": {
    "collapsed": true
   },
   "outputs": [],
   "source": []
  }
 ],
 "metadata": {
  "kernelspec": {
   "display_name": "Python 2",
   "language": "python",
   "name": "python2"
  },
  "language_info": {
   "codemirror_mode": {
    "name": "ipython",
    "version": 2
   },
   "file_extension": ".py",
   "mimetype": "text/x-python",
   "name": "python",
   "nbconvert_exporter": "python",
   "pygments_lexer": "ipython2",
   "version": "2.7.11"
  }
 },
 "nbformat": 4,
 "nbformat_minor": 0
}
