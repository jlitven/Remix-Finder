{
 "cells": [
  {
   "cell_type": "code",
   "execution_count": 1,
   "metadata": {
    "collapsed": false
   },
   "outputs": [],
   "source": [
    "# Authenticate user\n",
    "import spotipy\n",
    "import spotipy.util as util\n",
    "\n",
    "def get_token(scope):\n",
    "    token = util.prompt_for_user_token(\n",
    "            username='',\n",
    "            scope=scope,\n",
    "            client_id='e74c52988f6d4bcebb36970a423d348d',\n",
    "            client_secret='0edc87deae1a4611a97b6cebef262136',\n",
    "            redirect_uri='http://localhost:8888/callback')\n",
    "    return token\n",
    "token = get_token(scope='user-top-read')\n",
    "if token:\n",
    "    sp = spotipy.Spotify(auth=token)"
   ]
  },
  {
   "cell_type": "code",
   "execution_count": 2,
   "metadata": {
    "collapsed": true
   },
   "outputs": [],
   "source": [
    "# Experiment\n",
    "# Get user's profile information\n",
    "profile = sp.current_user()"
   ]
  },
  {
   "cell_type": "code",
   "execution_count": 21,
   "metadata": {
    "collapsed": false
   },
   "outputs": [
    {
     "name": "stdout",
     "output_type": "stream",
     "text": [
      "[u'\\u2019']\n"
     ]
    }
   ],
   "source": [
    "print [u'\\u2019']"
   ]
  },
  {
   "cell_type": "code",
   "execution_count": 13,
   "metadata": {
    "collapsed": true
   },
   "outputs": [],
   "source": [
    "# Experiment\n",
    "# Get user's top artists\n",
    "# Part 1: Function\n",
    "def get_users_top_artists(limit=20, time_range='long_term'):\n",
    "    results = sp.current_user_top_artists(limit=limit, offset=0, time_range=time_range)\n",
    "    return results['items']"
   ]
  },
  {
   "cell_type": "code",
   "execution_count": 16,
   "metadata": {
    "collapsed": false
   },
   "outputs": [
    {
     "name": "stdout",
     "output_type": "stream",
     "text": [
      "Gramatik\n",
      "Jon Hopkins\n",
      "Pretty Lights\n",
      "Onra\n",
      "Lusine\n",
      "The Go! Team\n",
      "18 Carat Affair\n",
      "Max Richter\n",
      "Lone\n",
      "Piano Chillout Magic\n",
      "Eluvium\n",
      "Two Door Cinema Club\n",
      "Daft Punk\n",
      "Oneohtrix Point Never\n",
      "Caravan Palace\n",
      "Starcadian\n",
      "Aphex Twin\n",
      "ODESZA\n",
      "Goldmund\n",
      "Emancipator\n"
     ]
    }
   ],
   "source": [
    "# Part 2: Print\n",
    "for artist in get_users_top_artists(time_range='long_term'):\n",
    "    print artist['name']"
   ]
  },
  {
   "cell_type": "code",
   "execution_count": 158,
   "metadata": {
    "collapsed": true
   },
   "outputs": [],
   "source": [
    "# Experiment\n",
    "# Part 1: Get related artists\n",
    "def get_related_artists(artist):\n",
    "    return sp.artist_related_artists(artist[u'id'])"
   ]
  },
  {
   "cell_type": "code",
   "execution_count": 157,
   "metadata": {
    "collapsed": true
   },
   "outputs": [],
   "source": [
    "related_artists = {}\n",
    "for artist in get_users_top_artists():\n",
    "    related_artists[artist['name']] = get_related_artists(artist)"
   ]
  },
  {
   "cell_type": "code",
   "execution_count": 159,
   "metadata": {
    "collapsed": false
   },
   "outputs": [
    {
     "name": "stdout",
     "output_type": "stream",
     "text": [
      "Daft Punk\n",
      "[u'Justice', u'Cassius', u'The Chemical Brothers', u'Basement Jaxx', u'Kavinsky', u'Calvin Harris', u'Vitalic', u'MSTRKRFT', u'David Guetta', u'Gorillaz', u'Mr. Oizo', u'Digitalism', u'The Bloody Beetroots', u'Mylo', u'Moby', u'Soulwax', u'deadmau5', u'R\\xf6yksopp', u'The Prodigy', u'Fatboy Slim']\n",
      "Big Black Delta\n",
      "[u'Austra', u'White Sea', u'Class Actress', u'Young Galaxy', u'Superhumanoids', u'MNDR', u'WIN WIN', u'Twin Shadow', u'Glasser', u'Exitmusic', u'Fol Chen', u'Zambri', u'Chromatics', u'Born Gold', u'Gardens & Villa', u'Active Child', u'Young Magic', u'Small Black', u'Hooray For Earth', u'I Break Horses']\n",
      "Beat Connection\n",
      "[u'Chad Valley', u'Kisses', u'Brothertiger', u'Lemonade', u'Millionyoung', u'Work Drugs', u'Tanlines', u'Summer Heart', u'Teen Daze', u'Blackbird Blackbird', u'Small Black', u'Javelin', u'Craft Spells', u'Porcelain Raft', u'Keep Shelly In Athens', u'Memory Tapes', u'Body Language', u'Clive Tanaka y su orquesta', u'Hooray For Earth', u'Neon Indian']\n",
      "The La's\n",
      "[u'Happy Mondays', u'James', u'The Stone Roses', u'Supergrass', u'Ocean Colour Scene', u'The Charlatans', u'Primal Scream', u'Ian Brown', u'Paul Weller', u'Blur', u'Pulp', u'The Coral', u'The Verve', u'Manic Street Preachers', u'Inspiral Carpets', u'Richard Ashcroft', u'Cornershop', u'Kula Shaker', u'Cast', u'The Bluetones']\n",
      "The Polish Ambassador\n",
      "[u'Eliot Lipp', u'Michal Menert', u'Pretty Lights', u'Tipper', u'Beats Antique', u'Copy', u'Opiuo', u'PANTyRAiD', u'BoomBox', u'Break Science', u'Paul Basic', u'ill.gates', u'Paper Diamond', u'Random Rab', u'Ill-Esha', u'Heyoka', u'An-Ten-Nae', u'EOTO', u'VibeSquaD', u'Big Gigantic']\n",
      "Starcadian\n",
      "[u'Lazerhawk', u'Le Matos', u'Carpenter Brut', u'Perturbator', u'Magic Sword', u'Scattle', u'Makeup And Vanity Set', u'Miami Nights 1984', u'Dance With the Dead', u'Mitch Murder', u'EchoDroides', u'Power Glove', u'Infinity Shred', u'Pilotpriest', u'El Huervo', u'Mogi Grumbles', u'Lost Years', u'Jordan F', u'Flashworx', u'Arcade High']\n",
      "The New Division\n",
      "[u'Class Actress', u'Chad Valley', u'Young Galaxy', u'Keep Shelly In Athens', u'Work Drugs', u'Summer Heart', u'Labyrinth Ear', u'Brothertiger', u'Porcelain Raft', u'Hooray For Earth', u'Beat Connection', u'Silver Swans', u'Computer Magic', u'Millionyoung', u'Kisses', u'I Break Horses', u'Lemonade', u'Teen Daze', u'Small Black', u'Memoryhouse']\n",
      "The Go! Team\n",
      "[u'Los Campesinos!', u'The Rapture', u'Clap Your Hands Say Yeah', u'Black Kids', u'The Spinto Band', u'Architecture In Helsinki', u'Tom Vek', u'The Big Pink', u'Art Brut', u'Of Montreal', u'CSS', u'LCD Soundsystem', u'The New Pornographers', u'Late of the Pier', u'TV On The Radio', u'The Raveonettes', u'The Unicorns', u'The Apples In Stereo', u'Fujiya & Miyagi', u'Peter Bjorn and John']\n",
      "Pretty Lights\n",
      "[u'Big Gigantic', u'Gramatik', u'Bassnectar', u'Emancipator', u'PANTyRAiD', u'Michal Menert', u'The Glitch Mob', u'Eliot Lipp', u'Paper Diamond', u'Beats Antique', u'Blockhead', u'Opiuo', u'The Polish Ambassador', u'Tipper', u'Ronald Jenkees', u'Bonobo', u'Little People', u'RJD2', u'ill.gates', u'Eskmo']\n",
      "Death In Vegas\n",
      "[u'UNKLE', u'Massive Attack', u'Tricky', u'The Chemical Brothers', u'Leftfield', u'Propellerheads', u'Underworld', u'Primal Scream', u'Lemon Jelly', u'Sneaker Pimps', u'Orbital', u'David Holmes', u'Moby', u'Groove Armada', u'Air', u'The Avalanches', u'Portishead', u'R\\xf6yksopp', u'I Monster', u'Mint Royale']\n",
      "Lone\n",
      "[u'Lukid', u'Machinedrum', u'Dorian Concept', u'Actress', u'FaltyDL', u'Teebs', u'Slugabed', u'Shigeto', u'Sepalcure', u'letherette', u'Illum Sphere', u'Harmonic 313', u'Samiyam', u'Mike Slott', u'Nosaj Thing', u'Zomby', u'Dimlite', u'Shlohmo', u'Flying Lotus', u'Lapalux']\n",
      "Nils Frahm\n",
      "[u'Goldmund', u'Max Richter', u'A Winged Victory for the Sullen', u'Library Tapes', u'J\\xf3hann J\\xf3hannsson', u\"Dustin O'Halloran\", u'Hauschka', u'Greg Haines', u'\\xd3lafur Arnalds', u'Sylvain Chauveau', u'Peter Broderick', u'Julia Kent', u'Danny Norbury', u'Rachel Grimes', u'Clem Leek', u'Deaf Center', u'Rafael Anton Irisarri', u'Valgeir Sigur\\xf0sson', u'Eluvium', u'Balmorhea']\n",
      "Gramatik\n",
      "[u'Pretty Lights', u'Wax Tailor', u'Blockhead', u'RJD2', u'Emancipator', u'Metaform', u'DJ Shadow', u'Michal Menert', u'Chinese Man', u'Little People', u'Beats Antique', u'Nightmares On Wax', u'Free The Robots', u'Bonobo', u'Eliot Lipp', u'Mr. Scruff', u'Ancient Astronauts', u'Blue Sky Black Death', u'Onra', u'JK Soul']\n",
      "Cash+David\n",
      "[u'Zola Blood', u'Brolin', u'Wyles & Simpson', u'H\\xc6LOS', u'Sea Moya', u'Chi', u'Frett', u'Young War', u'Liu Bei', u'Akiine', u'Stay Bless', u'Lanks', u'Apidae', u'Nick Hill', u'Fine Print', u'FAVELA', u'Oslo Parks', u'Atella', u'Doe Paoro', u'Wildhart']\n",
      "Moby\n",
      "[u'Underworld', u'The Chemical Brothers', u'Massive Attack', u'R\\xf6yksopp', u'Groove Armada', u'Leftfield', u'Faithless', u'Air', u'Moloko', u'Orbital', u'Kosheen', u'Propellerheads', u'Fluke', u'Basement Jaxx', u'Sneaker Pimps', u'Tricky', u'Fatboy Slim', u'Apollo 440', u'The Orb', u'Hooverphonic']\n",
      "Ulises Conti\n",
      "[u'Danny Norbury', u'Rachel Grimes', u'A Winged Victory for the Sullen', u'Christopher Tignor', u'Julia Kent', u'Sylvain Chauveau', u'Oliveray', u'Anna Rose Carter', u'Sophie Hutchings', u'Rafael Anton Irisarri', u'Library Tapes', u'Valgeir Sigur\\xf0sson', u'Carlos Cipa', u'Greg Haines', u'David Wenngren', u'Akira Kosemura', u'Alex Kozobolis', u\"Rachel's\", u'Bing & Ruth', u'Nils Frahm']\n",
      "Low Motion Disco\n",
      "[u'Lindstr\\xf8m & Prins Thomas', u'Windsurf', u'Ray Mang', u'Bottin', u'Still Going', u'Al Usher', u'Peter Visti', u'Woolfy vs Projections', u'Hatchback', u'40 Thieves', u'Diskjokke', u'Kathy Diamond', u'Idjut Boys', u'Meanderthals', u'Smith & Mudd', u'Lindstr\\xf8m', u'Acos CoolKAs', u'Mudd', u'Bubble Club', u'San Serac']\n",
      "Battle Tapes\n",
      "[u'Age of Consent', u'Living Days', u'Tony Castles', u'HEALTH', u'EchoDroides', u'Light Light', u'Transistorcake', u'Kauf', u'The Chain Gang Of 1974', u'Gunship', u'DJ Oguretz', u'M|O|O|N', u'A Million Billion Dying Suns', u'Favored Nations', u'Starcadian', u'Daemon Hatfield', u'Carpenter Brut', u'Maximum Love', u'Spiedkiks', u'Evan Ball']\n",
      "18 Carat Affair\n",
      "[u'Persona La Ave', u'Teams', u'Jacob 2-2', u'Teamm Jordann', u'luxury elite', u'ESPRIT \\u7a7a\\u60f3', u'Ssaliva', u'Monster Rally', u'Mensa Group International', u'Infinity Frequencies', u'Eyeliner', u'a i r s p o r t s', u'Corduroi', u'Navigateur', u'CYBEREALITY\\u30e9\\u30a4\\u30d5', u'Elite Gymnastics', u'\\ud68c\\uc0acAUTO', u'Nmesh', u'Casa del Mirto', u'Coyote Clean Up']\n",
      "Vulfpeck\n",
      "[u'Charles Bradley', u'The Suffers', u'Monophonics', u'JC Brooks & The Uptown Sound', u'Sharon Jones & The Dap-Kings', u'Fat Night', u'Bosley', u'Black Joe Lewis & The Honeybears', u'Maktub', u'Orgone', u'Booker T. Jones', u'Pimps of Joytime', u'EMEFE', u'Lee Fields & The Expressions', u'Equatics', u'Nick Waterhouse', u'Har Mar Superstar', u'The Meters', u'The Electric Peanut Butter Company', u'Lettuce']\n"
     ]
    }
   ],
   "source": [
    "# Part 2: Print artist and similar artists\n",
    "for key, val in related_artists.iteritems():\n",
    "    artist_name = key\n",
    "    similar_artists = val['artists']\n",
    "    similar_artist_names = [artist['name'] for artist in similar_artists]\n",
    "    print artist_name\n",
    "    print similar_artist_names"
   ]
  },
  {
   "cell_type": "code",
   "execution_count": 5,
   "metadata": {
    "collapsed": true
   },
   "outputs": [],
   "source": [
    "# Experiment\n",
    "# Part 1: Get artist remixes\n",
    "def get_remixes(artist, limit=50, offset=0):\n",
    "    # Returns the query searching for artist + remix\n",
    "    name = artist['name']\n",
    "    \n",
    "    def search_spotify_tracks(query):\n",
    "        results = sp.search(q=query, type='track', limit=limit, offset=offset)\n",
    "        tracks = [track for track in results['tracks']['items']]\n",
    "        return tracks\n",
    "     \n",
    "    remix_tracks = search_spotify_tracks('{} remix'.format(name))\n",
    "    return remix_tracks\n",
    "\n",
    "def get_all_remixes(artist):\n",
    "    all_remixes = []\n",
    "    offset = 0\n",
    "    limit = 50\n",
    "    while True:\n",
    "        remixes = get_remixes(artist, limit=limit, offset=offset)\n",
    "        if not remixes:\n",
    "            break\n",
    "        all_remixes.extend(remixes)\n",
    "        offset += limit\n",
    "    return all_remixes\n",
    "\n",
    "def get_tracks_remixed_by(artist):\n",
    "    # filter only tracks the artist has remixed\n",
    "    def artist_uris(track):\n",
    "        return [a['uri'] for a in track['artists']]\n",
    "    \n",
    "    #remixes = [remix for remix in get_remixes(artist)\n",
    "    #          if artist['uri'] not in remix['artists'][0]['uri']]\n",
    "    remixes = [remix for remix in get_remixes(artist)\n",
    "              if artist['name'] in remix['name']]\n",
    "    return remixes\n",
    "    \n",
    "def get_tracks_others_remixed(artist):\n",
    "    # filter tracks by the artist others have remixed \n",
    "    def artist_uris(track):\n",
    "        return [a['uri'] for a in track['artists']]\n",
    "    \n",
    "    remixes = [remix for remix in get_remixes(artist)\n",
    "               if artist['uri'] in remix['artists'][0]['uri']]\n",
    "    return remixes"
   ]
  },
  {
   "cell_type": "code",
   "execution_count": null,
   "metadata": {
    "collapsed": false
   },
   "outputs": [],
   "source": [
    "# Part 2: Print artist remixes \n",
    "# TODO: Add boards of canada test, should find 4\n",
    "for artist in get_users_top_artists():\n",
    "    remixes = get_all_remixes(artist)\n",
    "    print artist['name'] ,': ', [t['name'] for t in remixes]"
   ]
  },
  {
   "cell_type": "code",
   "execution_count": 137,
   "metadata": {
    "collapsed": false
   },
   "outputs": [
    {
     "name": "stdout",
     "output_type": "stream",
     "text": [
      "Boards of Canada\n",
      "[u'Last walk around mirror lake - Boards of Canada remix', u'Broken Drum - Remixed By Boards Of Canada', u'Mr Mistake (Boards Of Canada Remix)', u'Dayvan Cowboy (Odd Nosdam Remix)', u'Dead Dogs Two (Boards Of Canada Remix) - mixed', u'Dead Dogs Two - Boards of Canada remix', u'Kid For Today (Stereolab Mix)', u'Dead Dogs Two (Boards Of Canada Remix) - mixed', u'Poppy Seed (Boards Of Canada Remix)', u'Dayvan Cowboy (Remix)', u'Last walk around mirror lake - Boards of Canada remix', u'Sandsings (remixed by Boards of Canada)', u'An Eagle In Your Mind (Consumed And Regurgitated By The P.B.O.Ster!)', u'Poppy Seed (Reprise) (Boards Of Canada Remix)']\n"
     ]
    }
   ],
   "source": [
    "# Test\n",
    "# Find all remixes\n",
    "boc_uri = 'spotify:artist:2VAvhf61GgLYmC6C8anyX1'\n",
    "artist = sp.artist(boc_uri)\n",
    "remixes = get_all_remixes(artist)\n",
    "print artist['name']\n",
    "print [t['name'] for t in remixes]"
   ]
  },
  {
   "cell_type": "code",
   "execution_count": 147,
   "metadata": {
    "collapsed": false
   },
   "outputs": [
    {
     "name": "stdout",
     "output_type": "stream",
     "text": [
      "Daft Punk\n",
      "[u'Daft Punk-Derezzed - Remixed by The Glitch Mob', u'Daft Punk-Get Lucky - Daft Punk Remix', u'Daft Punk-Aerodynamic (Daft Punk Remix)', u'Daft Punk-Fall - Remixed by M83 VS Big Black Delta', u'Daft Punk-The Grid - Remixed by The Crystal Method', u'Daft Punk-Derezzed - Remixed by Avicii', u'Daft Punk-The Son of Flynn - Remixed by Moby', u'Daft Punk-Adagio for TRON - Remixed by Teddybears', u'Daft Punk-End of Line - Remixed by Photek', u'Daft Punk-The Son of Flynn - Remixed by Ki:Theory', u'Daft Punk-Solar Sailer - Remixed by Pretty Lights', u'Daft Punk-End of Line - Remixed by Boys Noize', u'Daft Punk-Rinzler - Remixed by Kaskade', u'Daft Punk-C.L.U. - Remixed by Paul Oakenfold', u'Daft Punk-Encom Part 2 - Remixed by Com Truise', u'Daft Punk-TRON Legacy (End Titles) - Remixed by Sander Kleinenberg', u'Daft Punk-Arena - Remixed by The Japanese Popstars', u'Daft Punk-Robot Rock - Soulwax Remix', u'Daft Punk-Human After All - SebastiAn Remix', u'Daft Punk-Harder Better Faster Stronger (The Neptunes Remix)', u'Daft Punk-Technologic - Peaches No Logic Remix', u'Daft Punk-Digital Love (Boris Dlugosh Remix)', u'Daft Punk-Human After All - \"Guy-Man After All \"- Justice Remix', u'Daft Punk-Prime Time of you Life - Para One Remix', u'Daft Punk-Face To Face (Cosmo VItelli Remix)', u'Daft Punk-Robot Rock - Daft Punk Maximum Overdrive Mix', u'Daft Punk-Technologic - Vitalic Remix', u'Daft Punk-Technologic - Knight club remix', u'Daft Punk-Phoenix (Basement Jaxx Remix)', u'Daft Punk-Human After All - Alter Ego Remix', u'Daft Punk-Aerodynamic (Slum Village Remix)', u'Daft Punk-Technologic - Liquid twins remix', u'Daft Punk-Face To Face (Demon Remix)', u'Daft Punk-Crescendolls (Laidback Remix)', u'Daft Punk-Human After All - The Juan Mclean Remix', u'Daft Punk-Technologic - Digitalism RMX', u\"Daft Punk-Brainwasher - Erol Alkan's Horrohouse dub\", u'Daft Punk-Technologic - Basement Jaxx Kontrol Mixx', u'Daft Punk-Human After All - Emperor Machine Version', u'Daft Punk-Harder Better Faster Stronger - Breakers Break Remix', u'Daft Punk-Harder Better Faster Stronger (The Neptunes Remix)', u'Daft Punk-Fall - (From \"TRON: Legacy\") [Japanese Popstars Remix]']\n"
     ]
    }
   ],
   "source": [
    "# Test\n",
    "# Find all artist tracks remixed by others\n",
    "boc_uri = 'spotify:artist:4tZwfgrHOc3mvqYlEYSvVi'\n",
    "artist = sp.artist(boc_uri)\n",
    "remixes = get_tracks_others_remixed(artist)\n",
    "print artist['name']\n",
    "print [t['artists'][0]['name'] + '-' + t['name'] for t in remixes]"
   ]
  },
  {
   "cell_type": "code",
   "execution_count": 236,
   "metadata": {
    "collapsed": false
   },
   "outputs": [
    {
     "name": "stdout",
     "output_type": "stream",
     "text": [
      "Soulwax\n",
      "[u'Tame Impala-Let It Happen - Soulwax Remix', u'Jungle-Julia (Soulwax Remix)', u\"The Rolling Stones-You Can't Always Get What You Want (Soulwax Remix) - Remix\", u'Daft Punk-Robot Rock - Soulwax Remix', u'Gorillaz-DARE - Soulwax Remix', u'Gorillaz-DARE - Soulwax Remix', u'Joe Goddard-Gabriel - Soulwax Remix', u'Hot Chip-Huarache Lights - Soulwax Remix', u'Justice-Phantom Pt II - Soulwax Remix', u'Muse-Muscle Museum [Soulwax Remix]', u'Hot Chip-Huarache Lights - Soulwax Remix', u'LCD Soundsystem-Get Innocuous! - Soulwax Remix', u'LCD Soundsystem-You Wanted A Hit - Soulwax Remix', u'Gorillaz-DARE - Soulwax Remix', u'Ladytron-Seventeen - Soulwax Mix', u'Hot Chip-Huarache Lights - Soulwax Remix', u'Late of the Pier-Best in The Class - Soulwax Remix', u'LCD Soundsystem-Get Innocuous! - Soulwax Remix', u'Ladytron-Seventeen - Soulwax Mix', u'Justice-Phantom Pt II - Soulwax Remix', u'Zita Swoon-My Bond With You and Your Planet: Disoc! - Soulwax Remix']\n"
     ]
    }
   ],
   "source": [
    "# Test\n",
    "# Find all tracks remixed by artist\n",
    "boc_uri = 'spotify:artist:43mWhBXSflupNLuNjM5vff'\n",
    "artist = sp.artist(boc_uri)\n",
    "remixes = get_tracks_remixed_by(artist)\n",
    "print artist['name']\n",
    "print [t['artists'][0]['name'] + '-' + t['name'] for t in remixes]"
   ]
  },
  {
   "cell_type": "code",
   "execution_count": 238,
   "metadata": {
    "collapsed": false
   },
   "outputs": [
    {
     "data": {
      "text/plain": [
       "u'My Bond With You and Your Planet: Disoc! - Soulwax Remix'"
      ]
     },
     "execution_count": 238,
     "metadata": {},
     "output_type": "execute_result"
    }
   ],
   "source": [
    "t['name']"
   ]
  },
  {
   "cell_type": "raw",
   "metadata": {
    "collapsed": false
   },
   "source": [
    "remix['name']"
   ]
  },
  {
   "cell_type": "code",
   "execution_count": 228,
   "metadata": {
    "collapsed": false
   },
   "outputs": [],
   "source": [
    "class Test(dict):\n",
    "    \n",
    "    def __init__(self, a):\n",
    "        dict.__init__(self, a)\n",
    "    \n",
    "    def cool_method(self):\n",
    "        print 'hello world'\n",
    "        \n",
    "    def __str__(self):\n",
    "        return ' '.join(self.keys())\n",
    "a['awefaew'] = 2\n",
    "b = Test(a)"
   ]
  },
  {
   "cell_type": "code",
   "execution_count": 229,
   "metadata": {
    "collapsed": false
   },
   "outputs": [
    {
     "name": "stdout",
     "output_type": "stream",
     "text": [
      "hello world\n"
     ]
    }
   ],
   "source": [
    "b.cool_method()"
   ]
  },
  {
   "cell_type": "code",
   "execution_count": 230,
   "metadata": {
    "collapsed": false
   },
   "outputs": [
    {
     "data": {
      "text/plain": [
       "['awefaew']"
      ]
     },
     "execution_count": 230,
     "metadata": {},
     "output_type": "execute_result"
    }
   ],
   "source": [
    "a.keys()"
   ]
  },
  {
   "cell_type": "code",
   "execution_count": 231,
   "metadata": {
    "collapsed": false
   },
   "outputs": [
    {
     "name": "stdout",
     "output_type": "stream",
     "text": [
      "awefaew\n"
     ]
    }
   ],
   "source": [
    "print b"
   ]
  },
  {
   "cell_type": "code",
   "execution_count": 198,
   "metadata": {
    "collapsed": false
   },
   "outputs": [
    {
     "ename": "AttributeError",
     "evalue": "'Test' object has no attribute 'awefaew'",
     "output_type": "error",
     "traceback": [
      "\u001b[0;31m---------------------------------------------------------------------------\u001b[0m",
      "\u001b[0;31mAttributeError\u001b[0m                            Traceback (most recent call last)",
      "\u001b[0;32m<ipython-input-198-1715c2fd4aba>\u001b[0m in \u001b[0;36m<module>\u001b[0;34m()\u001b[0m\n\u001b[0;32m----> 1\u001b[0;31m \u001b[0mb\u001b[0m\u001b[0;34m.\u001b[0m\u001b[0mawefaew\u001b[0m\u001b[0;34m\u001b[0m\u001b[0m\n\u001b[0m",
      "\u001b[0;31mAttributeError\u001b[0m: 'Test' object has no attribute 'awefaew'"
     ]
    }
   ],
   "source": [
    "b.awefaew"
   ]
  },
  {
   "cell_type": "code",
   "execution_count": 281,
   "metadata": {
    "collapsed": false
   },
   "outputs": [],
   "source": [
    "import os\n",
    "import sys\n",
    "sys.path.append('/Users/alexanderlitven/Projects/remix_finder/src')"
   ]
  },
  {
   "cell_type": "code",
   "execution_count": 282,
   "metadata": {
    "collapsed": false
   },
   "outputs": [],
   "source": [
    "from spotify_adaptors import User, Artist, Track\n",
    "reload(spotify_adaptors)\n",
    "u = User()"
   ]
  },
  {
   "cell_type": "code",
   "execution_count": 283,
   "metadata": {
    "collapsed": false
   },
   "outputs": [],
   "source": [
    "top_artists = u.get_top_artists()"
   ]
  },
  {
   "cell_type": "code",
   "execution_count": 284,
   "metadata": {
    "collapsed": false
   },
   "outputs": [
    {
     "name": "stdout",
     "output_type": "stream",
     "text": [
      "['The Go! Team', 'Daft Punk', 'Starcadian', 'Gramatik', 'Pretty Lights', 'Ulises Conti', 'The New Division', 'Vulfpeck', 'Battle Tapes', 'Moby', 'Big Black Delta', 'The Polish Ambassador', 'Death In Vegas', 'Lone', 'The War On Drugs', 'Low Motion Disco', 'Nils Frahm', '18 Carat Affair', 'Cash+David', \"The La's\"]\n"
     ]
    }
   ],
   "source": [
    "print([str(item) for item in top_artists])"
   ]
  },
  {
   "cell_type": "code",
   "execution_count": 280,
   "metadata": {
    "collapsed": false
   },
   "outputs": [
    {
     "name": "stdout",
     "output_type": "stream",
     "text": [
      "The Go! Team 's top tracks:\n",
      "['The Go! Team - Apollo Throwdown (Star Slinger Remix)', 'The Go! Team - Huddle Formation', \"The Go! Team - Everyone's A Vip To Someone\", 'The Go! Team - Ladyflash', 'The Go! Team - Get It Together', 'The Go! Team - Grip Like A Vice', 'The Go! Team - Feel Good By Numbers', 'The Go! Team - The Power Is On', 'The Go! Team - Junior Kickstart', 'The Go! Team - Panther Dash']\n",
      "Daft Punk 's top tracks:\n",
      "['Daft Punk - Get Lucky - Radio Edit', 'Daft Punk - Get Lucky', 'Daft Punk - Instant Crush', 'Daft Punk - One More Time', 'Daft Punk - Lose Yourself to Dance', 'Daft Punk - Around The World', 'Daft Punk - Harder Better Faster Stronger', \"Daft Punk - Doin' it Right\", 'Daft Punk - Give Life Back to Music', 'Daft Punk - Giorgio by Moroder']\n",
      "Starcadian 's top tracks:\n",
      "['Starcadian - He^rt', 'Starcadian - Chinatown', 'Starcadian - He^Rt (Album Mix)', 'Starcadian - Ultralove', 'Starcadian - Lovetop', 'Starcadian - Sgt. Tagowski', 'Starcadian - Dance or Die', 'Starcadian - Ronnie (Album Mix)', 'Starcadian - Pompey Pirate', 'Starcadian - Alien Victory']\n",
      "Gramatik 's top tracks:\n",
      "['Gramatik - Hit That Jive', 'Gramatik - Muy Tranquilo', \"Gramatik - Just Jammin'\", 'Gramatik - Anima Mundi (feat. Russ Liquid)', \"Gramatik - While I Was Playin' Fair\", 'Gramatik - Dungeon Sound', 'Gramatik - Satoshi Nakamoto (feat. Adrian Lau, ProbCause)', 'Gramatik - So Much for Love', 'Gramatik - Skylight', 'Gramatik - Lonely & Cold']\n",
      "Pretty Lights 's top tracks:\n",
      "['Pretty Lights - Finally Moving', \"Pretty Lights - One Day They'll Know (ODESZA Remix)\", 'Pretty Lights - Hot Like Sauce', 'Pretty Lights - I Can See It In Your Face', 'Nosaj Thing - Ethereal (Nosaj Thing vs. Pretty Lights)', 'Pretty Lights - Yellow Bird', 'Pretty Lights - I Know the Truth', 'Pretty Lights - Only Yesterday', 'Pretty Lights - Lost And Found - ODESZA Remix', 'Pretty Lights - Total Fascination']\n",
      "Ulises Conti 's top tracks:\n",
      "['Ulises Conti - N', 'Ulises Conti - El Chico de la Moto', 'Ulises Conti - I', 'Ulises Conti - H', 'Ulises Conti - P', 'Ulises Conti - F', 'Ulises Conti - D', 'Ulises Conti - A', 'Ulises Conti - B', 'Ulises Conti - C']\n",
      "The New Division 's top tracks:\n",
      "['The New Division - Shallow Play', 'The New Division - Kids', 'The New Division - Opium - Original Mix', 'The New Division - Introspective', 'The New Division - Opium', 'The New Division - Starfield', 'The New Division - Gemini', 'The New Division - Pride', 'The New Division - Saturday Night', 'The New Division - Munich']\n",
      "Vulfpeck 's top tracks:\n",
      "['Vulfpeck - Back Pocket', 'Vulfpeck - Flow State', 'Vulfpeck - Wait for the Moment', 'Vulfpeck - 1612', 'Vulfpeck - Outro', 'Vulfpeck - Funky Duck', 'Vulfpeck - Rango II', 'Vulfpeck - Game Winner', 'Vulfpeck - Welcome to Vulf Records', 'Vulfpeck - Christmas in L.A.']\n",
      "Battle Tapes 's top tracks:\n",
      "['Battle Tapes - Feel the Same', 'Battle Tapes - Valkyrie (Radio Edit)', 'Battle Tapes - Valkyrie', 'Battle Tapes - Solid Gold (feat. Party Nails)', 'Battle Tapes - Graveyard Shift', 'Battle Tapes - Dreamboat', 'Battle Tapes - Feel the Same', 'Battle Tapes - Belgrade', 'Battle Tapes - Made', 'Battle Tapes - Private Dancer']\n",
      "Moby 's top tracks:\n",
      "['Moby - Porcelain', 'Moby - Flower', 'Moby - Why Does My Heart Feel So Bad?', 'Moby - Natural Blues', 'Robin Schulz - Moonlit Sky (with The Void Pacific Choir)', 'Moby - Honey', 'Moby - Go (Radio Edit)', 'Moby - South Side', 'Moby - Run On', 'Moby - Extreme Ways']\n",
      "Big Black Delta 's top tracks:\n",
      "['Big Black Delta - Money Rain Down', 'Big Black Delta - Huggin & Kissin', 'Big Black Delta - RCVR (feat. Debbie Gibson)', 'Big Black Delta - Capsize', 'Big Black Delta - Bitten by the Apple', 'Big Black Delta - Side of the Road', \"Big Black Delta - It's OK\", 'Big Black Delta - Steer the Canyon', 'Big Black Delta - H.A.', 'Big Black Delta - Kid Icarus']\n",
      "The Polish Ambassador 's top tracks:\n",
      "['The Polish Ambassador - Higher Still (feat. Kyrstyn Pixton)', 'The Polish Ambassador - Let the Rhythm Just', 'The Polish Ambassador - Chill or Be Chilled (feat. Nitty Scott)', 'The Polish Ambassador - Vision Fiberoptics', 'The Polish Ambassador - Heartbeat Amplifier', 'The Polish Ambassador - Shine Bright', 'The Polish Ambassador - Forever Lost', 'The Polish Ambassador - Gathering of the Tribes', 'The Polish Ambassador - Sri Gurvastakam', 'The Polish Ambassador - Picture (The Polish Ambassador Remix)']\n",
      "Death In Vegas 's top tracks:\n",
      "['Death In Vegas - Girls', 'Death In Vegas - Metal Box', 'Death In Vegas - Your Loft My Acid', 'Death In Vegas - Consequences of Love', 'Death In Vegas - Transmission', 'Death In Vegas - Mind Control', 'Death In Vegas - Dirge', 'Death In Vegas - Flak', 'Death In Vegas - Sequential Analog Memory', 'Death In Vegas - Arise']\n",
      "Lone 's top tracks:\n",
      "['Lone - 2 is 8', 'Lone - Alpha Wheel', 'Lone - Pineapple Crush', 'Lone - Backtail Was Heavy', 'Lone - Vapour Trail', 'Lone - Triple Helix', 'Lone - Breeze Out', 'Lone - Airglow Fires', 'Lone - Jaded', 'Lone - The Morning Birds']\n",
      "The War On Drugs 's top tracks:\n",
      "['The War On Drugs - Red Eyes', 'The War On Drugs - Under The Pressure', 'The War On Drugs - Burning', 'The War On Drugs - Suffering', 'The War On Drugs - Touch of Grey', 'The War On Drugs - An Ocean In Between The Waves', 'The War On Drugs - Eyes To The Wind', 'The War On Drugs - Disappearing', 'The War On Drugs - Lost In The Dream', 'The War On Drugs - In Reverse']\n",
      "Low Motion Disco 's top tracks:\n",
      "['Low Motion Disco - Things Are Gonna Get Easier', 'Low Motion Disco - Love Love Love - Aeroplane mix', 'Low Motion Disco - The Low Murderer Is Out At Night', 'Low Motion Disco - Love Love Love - Soft Rocks Remix', 'Low Motion Disco - Love Knows Low', 'Low Motion Disco - Talk Low When In Space', 'Low Motion Disco - Born On The Low Wind', 'Low Motion Disco - Love Love Love', 'Low Motion Disco - People Come In Slowly', 'Low Motion Disco - Frantic Low Moment']\n",
      "Nils Frahm 's top tracks:\n"
     ]
    },
    {
     "ename": "UnicodeEncodeError",
     "evalue": "'ascii' codec can't encode character u'\\xd3' in position 0: ordinal not in range(128)",
     "output_type": "error",
     "traceback": [
      "\u001b[0;31m---------------------------------------------------------------------------\u001b[0m",
      "\u001b[0;31mUnicodeEncodeError\u001b[0m                        Traceback (most recent call last)",
      "\u001b[0;32m<ipython-input-280-f20371a9c950>\u001b[0m in \u001b[0;36m<module>\u001b[0;34m()\u001b[0m\n\u001b[1;32m      2\u001b[0m     \u001b[0;32mprint\u001b[0m \u001b[0martist\u001b[0m\u001b[0;34m,\u001b[0m \u001b[0;34m\"'s top tracks:\"\u001b[0m\u001b[0;34m\u001b[0m\u001b[0m\n\u001b[1;32m      3\u001b[0m     \u001b[0mtop_tracks\u001b[0m \u001b[0;34m=\u001b[0m \u001b[0martist\u001b[0m\u001b[0;34m.\u001b[0m\u001b[0mget_top_tracks\u001b[0m\u001b[0;34m(\u001b[0m\u001b[0;34m)\u001b[0m\u001b[0;34m\u001b[0m\u001b[0m\n\u001b[0;32m----> 4\u001b[0;31m     \u001b[0;32mprint\u001b[0m \u001b[0;34m[\u001b[0m\u001b[0mstr\u001b[0m\u001b[0;34m(\u001b[0m\u001b[0mt\u001b[0m\u001b[0;34m)\u001b[0m \u001b[0;32mfor\u001b[0m \u001b[0mt\u001b[0m \u001b[0;32min\u001b[0m \u001b[0mtop_tracks\u001b[0m\u001b[0;34m]\u001b[0m\u001b[0;34m\u001b[0m\u001b[0m\n\u001b[0m",
      "\u001b[0;32m/Users/alexanderlitven/Projects/remix_finder/src/spotify_adaptors.py\u001b[0m in \u001b[0;36m__str__\u001b[0;34m(self)\u001b[0m\n\u001b[1;32m    108\u001b[0m         \u001b[0;34m\"\"\"Return the artist and track name.\"\"\"\u001b[0m\u001b[0;34m\u001b[0m\u001b[0m\n\u001b[1;32m    109\u001b[0m         return '{} - {}'.format(self.artist.name,\n\u001b[0;32m--> 110\u001b[0;31m                                 self.name)\n\u001b[0m",
      "\u001b[0;31mUnicodeEncodeError\u001b[0m: 'ascii' codec can't encode character u'\\xd3' in position 0: ordinal not in range(128)"
     ]
    }
   ],
   "source": [
    "for artist in top_artists:\n",
    "    print artist, \"top tracks:\"\n",
    "    top_tracks = artist.get_top_tracks()\n",
    "    print [str(t) for t in top_tracks]"
   ]
  },
  {
   "cell_type": "code",
   "execution_count": 277,
   "metadata": {
    "collapsed": false
   },
   "outputs": [
    {
     "data": {
      "text/plain": [
       "[{u'external_urls': {u'spotify': u'https://open.spotify.com/artist/6veTV9sF06FBf2KN0xAdvo'},\n",
       "  u'followers': {u'href': None, u'total': None},\n",
       "  u'genres': [],\n",
       "  u'href': u'https://api.spotify.com/v1/artists/6veTV9sF06FBf2KN0xAdvo',\n",
       "  u'id': u'6veTV9sF06FBf2KN0xAdvo',\n",
       "  u'images': [{u'height': 1000,\n",
       "    u'url': u'https://i.scdn.co/image/733fa2d1eab63b9d3741ad640e933e13d23a8b4d',\n",
       "    u'width': 1000},\n",
       "   {u'height': 640,\n",
       "    u'url': u'https://i.scdn.co/image/ea86120b7ef58fe5d8f9b426102821b77b2314a6',\n",
       "    u'width': 640},\n",
       "   {u'height': 200,\n",
       "    u'url': u'https://i.scdn.co/image/1e3634aa8c42ecfb6fd941d52dd7759e758d8c8d',\n",
       "    u'width': 200},\n",
       "   {u'height': 64,\n",
       "    u'url': u'https://i.scdn.co/image/16966e323964f31b9f49c8198f874eb82a640868',\n",
       "    u'width': 64}],\n",
       "  u'name': u'The Go! Team',\n",
       "  u'popularity': 42,\n",
       "  u'type': u'artist',\n",
       "  u'uri': u'spotify:artist:6veTV9sF06FBf2KN0xAdvo'},\n",
       " {u'external_urls': {u'spotify': u'https://open.spotify.com/artist/4tZwfgrHOc3mvqYlEYSvVi'},\n",
       "  u'followers': {u'href': None, u'total': None},\n",
       "  u'genres': [u'house'],\n",
       "  u'href': u'https://api.spotify.com/v1/artists/4tZwfgrHOc3mvqYlEYSvVi',\n",
       "  u'id': u'4tZwfgrHOc3mvqYlEYSvVi',\n",
       "  u'images': [{u'height': 751,\n",
       "    u'url': u'https://i.scdn.co/image/e52651f03da8c9bf264f75cdabf39cf039606ddc',\n",
       "    u'width': 999},\n",
       "   {u'height': 481,\n",
       "    u'url': u'https://i.scdn.co/image/b96d08f790bf2be50fee0aa490a7d06d40ba36bb',\n",
       "    u'width': 640},\n",
       "   {u'height': 150,\n",
       "    u'url': u'https://i.scdn.co/image/5bafab32f2eb71e881de73ec4b088e106feb9e3f',\n",
       "    u'width': 200},\n",
       "   {u'height': 48,\n",
       "    u'url': u'https://i.scdn.co/image/809d6b89f4bb3f0f42f86c953a8b312234a31f31',\n",
       "    u'width': 64}],\n",
       "  u'name': u'Daft Punk',\n",
       "  u'popularity': 75,\n",
       "  u'type': u'artist',\n",
       "  u'uri': u'spotify:artist:4tZwfgrHOc3mvqYlEYSvVi'},\n",
       " {u'external_urls': {u'spotify': u'https://open.spotify.com/artist/3I0ceM8qfqhCKGepaswmVg'},\n",
       "  u'followers': {u'href': None, u'total': None},\n",
       "  u'genres': [],\n",
       "  u'href': u'https://api.spotify.com/v1/artists/3I0ceM8qfqhCKGepaswmVg',\n",
       "  u'id': u'3I0ceM8qfqhCKGepaswmVg',\n",
       "  u'images': [{u'height': 640,\n",
       "    u'url': u'https://i.scdn.co/image/2753f388b42e83a3cc9f97ef3eadbca710317206',\n",
       "    u'width': 640},\n",
       "   {u'height': 300,\n",
       "    u'url': u'https://i.scdn.co/image/8112255043f47d7e11709e36c6b102e5975c90fa',\n",
       "    u'width': 300},\n",
       "   {u'height': 64,\n",
       "    u'url': u'https://i.scdn.co/image/fa5ffd0f8bb3f3022ca3201b86e4851696242c3f',\n",
       "    u'width': 64}],\n",
       "  u'name': u'Starcadian',\n",
       "  u'popularity': 34,\n",
       "  u'type': u'artist',\n",
       "  u'uri': u'spotify:artist:3I0ceM8qfqhCKGepaswmVg'},\n",
       " {u'external_urls': {u'spotify': u'https://open.spotify.com/artist/179BpmLkQCRIoU68Co80f5'},\n",
       "  u'followers': {u'href': None, u'total': None},\n",
       "  u'genres': [],\n",
       "  u'href': u'https://api.spotify.com/v1/artists/179BpmLkQCRIoU68Co80f5',\n",
       "  u'id': u'179BpmLkQCRIoU68Co80f5',\n",
       "  u'images': [{u'height': 705,\n",
       "    u'url': u'https://i.scdn.co/image/b71119ddb7965009a214e0b812a4275990fd0799',\n",
       "    u'width': 470},\n",
       "   {u'height': 300,\n",
       "    u'url': u'https://i.scdn.co/image/841fcd513cd263180d4cc5b256e82016c5f15332',\n",
       "    u'width': 200},\n",
       "   {u'height': 96,\n",
       "    u'url': u'https://i.scdn.co/image/ef827464fa997ea611e7de2ec0f7e9c2fcec6b11',\n",
       "    u'width': 64}],\n",
       "  u'name': u'Gramatik',\n",
       "  u'popularity': 62,\n",
       "  u'type': u'artist',\n",
       "  u'uri': u'spotify:artist:179BpmLkQCRIoU68Co80f5'},\n",
       " {u'external_urls': {u'spotify': u'https://open.spotify.com/artist/4iVhFmG8YCCEHANGeUUS9q'},\n",
       "  u'followers': {u'href': None, u'total': None},\n",
       "  u'genres': [],\n",
       "  u'href': u'https://api.spotify.com/v1/artists/4iVhFmG8YCCEHANGeUUS9q',\n",
       "  u'id': u'4iVhFmG8YCCEHANGeUUS9q',\n",
       "  u'images': [{u'height': 667,\n",
       "    u'url': u'https://i.scdn.co/image/55f8cfda129f98601c00f29ce5210308bc9e634f',\n",
       "    u'width': 1000},\n",
       "   {u'height': 427,\n",
       "    u'url': u'https://i.scdn.co/image/663da670729115d10650ae7abd6a396b28f86c75',\n",
       "    u'width': 640},\n",
       "   {u'height': 133,\n",
       "    u'url': u'https://i.scdn.co/image/165faa30e6ca4aaa8c39231b989d70851b29ac02',\n",
       "    u'width': 199},\n",
       "   {u'height': 43,\n",
       "    u'url': u'https://i.scdn.co/image/6d688e7c3798d31bac3c0e13dc413fa0b338086c',\n",
       "    u'width': 64}],\n",
       "  u'name': u'Pretty Lights',\n",
       "  u'popularity': 59,\n",
       "  u'type': u'artist',\n",
       "  u'uri': u'spotify:artist:4iVhFmG8YCCEHANGeUUS9q'},\n",
       " {u'external_urls': {u'spotify': u'https://open.spotify.com/artist/2GbKQKL9D1dkfoSMeWM7vV'},\n",
       "  u'followers': {u'href': None, u'total': None},\n",
       "  u'genres': [],\n",
       "  u'href': u'https://api.spotify.com/v1/artists/2GbKQKL9D1dkfoSMeWM7vV',\n",
       "  u'id': u'2GbKQKL9D1dkfoSMeWM7vV',\n",
       "  u'images': [{u'height': 640,\n",
       "    u'url': u'https://i.scdn.co/image/1346c5a2ce52bf89d51e49f55b698ac60500a281',\n",
       "    u'width': 640},\n",
       "   {u'height': 300,\n",
       "    u'url': u'https://i.scdn.co/image/3ce9d93795917d5e735ba4819530e22339b702e6',\n",
       "    u'width': 300},\n",
       "   {u'height': 64,\n",
       "    u'url': u'https://i.scdn.co/image/88e7c51416d1f6e4cb6ea25b868c091d15e40d4d',\n",
       "    u'width': 64}],\n",
       "  u'name': u'Ulises Conti',\n",
       "  u'popularity': 34,\n",
       "  u'type': u'artist',\n",
       "  u'uri': u'spotify:artist:2GbKQKL9D1dkfoSMeWM7vV'},\n",
       " {u'external_urls': {u'spotify': u'https://open.spotify.com/artist/1Cb9Edoxp02mgY0VWVlwQo'},\n",
       "  u'followers': {u'href': None, u'total': None},\n",
       "  u'genres': [],\n",
       "  u'href': u'https://api.spotify.com/v1/artists/1Cb9Edoxp02mgY0VWVlwQo',\n",
       "  u'id': u'1Cb9Edoxp02mgY0VWVlwQo',\n",
       "  u'images': [{u'height': 667,\n",
       "    u'url': u'https://i.scdn.co/image/5af3afec8f230e979cd782abecf1ea4d95878796',\n",
       "    u'width': 1000},\n",
       "   {u'height': 427,\n",
       "    u'url': u'https://i.scdn.co/image/2e29ac8dbaa8a281ac592f57706da08e72a9985a',\n",
       "    u'width': 640},\n",
       "   {u'height': 133,\n",
       "    u'url': u'https://i.scdn.co/image/3eebe70967d3143681b36427a8209fecfeea7f91',\n",
       "    u'width': 200},\n",
       "   {u'height': 43,\n",
       "    u'url': u'https://i.scdn.co/image/295b25563d340aa764ed8ef3e3de4cf77b5277bc',\n",
       "    u'width': 64}],\n",
       "  u'name': u'The New Division',\n",
       "  u'popularity': 37,\n",
       "  u'type': u'artist',\n",
       "  u'uri': u'spotify:artist:1Cb9Edoxp02mgY0VWVlwQo'},\n",
       " {u'external_urls': {u'spotify': u'https://open.spotify.com/artist/7pXu47GoqSYRajmBCjxdD6'},\n",
       "  u'followers': {u'href': None, u'total': None},\n",
       "  u'genres': [],\n",
       "  u'href': u'https://api.spotify.com/v1/artists/7pXu47GoqSYRajmBCjxdD6',\n",
       "  u'id': u'7pXu47GoqSYRajmBCjxdD6',\n",
       "  u'images': [{u'height': 640,\n",
       "    u'url': u'https://i.scdn.co/image/9a622bd7b6d8cad7da2ef1a53fa9d0ccf4c73857',\n",
       "    u'width': 640},\n",
       "   {u'height': 300,\n",
       "    u'url': u'https://i.scdn.co/image/7038a05232624db4e4cffea9d308e8d3633fe492',\n",
       "    u'width': 300},\n",
       "   {u'height': 64,\n",
       "    u'url': u'https://i.scdn.co/image/a89038b09552eb254bd4ec5b4347fbb9239c12db',\n",
       "    u'width': 64}],\n",
       "  u'name': u'Vulfpeck',\n",
       "  u'popularity': 56,\n",
       "  u'type': u'artist',\n",
       "  u'uri': u'spotify:artist:7pXu47GoqSYRajmBCjxdD6'},\n",
       " {u'external_urls': {u'spotify': u'https://open.spotify.com/artist/2TdEIqWbLnZZHYRDWvVj67'},\n",
       "  u'followers': {u'href': None, u'total': None},\n",
       "  u'genres': [],\n",
       "  u'href': u'https://api.spotify.com/v1/artists/2TdEIqWbLnZZHYRDWvVj67',\n",
       "  u'id': u'2TdEIqWbLnZZHYRDWvVj67',\n",
       "  u'images': [{u'height': 640,\n",
       "    u'url': u'https://i.scdn.co/image/0689ffb7deaabdc393f6fa14c1e2e4f2001942fb',\n",
       "    u'width': 640},\n",
       "   {u'height': 300,\n",
       "    u'url': u'https://i.scdn.co/image/0d098dd362fc9e71068b7cf5d6ec28cf6ce22ea7',\n",
       "    u'width': 300},\n",
       "   {u'height': 64,\n",
       "    u'url': u'https://i.scdn.co/image/b67fa7d14a718a296be41dd6e8d5f1090a9032eb',\n",
       "    u'width': 64}],\n",
       "  u'name': u'Battle Tapes',\n",
       "  u'popularity': 37,\n",
       "  u'type': u'artist',\n",
       "  u'uri': u'spotify:artist:2TdEIqWbLnZZHYRDWvVj67'},\n",
       " {u'external_urls': {u'spotify': u'https://open.spotify.com/artist/3OsRAKCvk37zwYcnzRf5XF'},\n",
       "  u'followers': {u'href': None, u'total': None},\n",
       "  u'genres': [u'electronic'],\n",
       "  u'href': u'https://api.spotify.com/v1/artists/3OsRAKCvk37zwYcnzRf5XF',\n",
       "  u'id': u'3OsRAKCvk37zwYcnzRf5XF',\n",
       "  u'images': [{u'height': 666,\n",
       "    u'url': u'https://i.scdn.co/image/e9be7ccb5b81147793c2ceb846c640cdb06dbdd7',\n",
       "    u'width': 1000},\n",
       "   {u'height': 426,\n",
       "    u'url': u'https://i.scdn.co/image/b5dc01110a6b85262bb70817d0ada32e2e7e3cbc',\n",
       "    u'width': 640},\n",
       "   {u'height': 133,\n",
       "    u'url': u'https://i.scdn.co/image/a4aa17a214ad22a31bada05401e893bef92719df',\n",
       "    u'width': 200},\n",
       "   {u'height': 43,\n",
       "    u'url': u'https://i.scdn.co/image/1780d3dcf80bfefdec03f333ef0e9ffca5389baf',\n",
       "    u'width': 64}],\n",
       "  u'name': u'Moby',\n",
       "  u'popularity': 67,\n",
       "  u'type': u'artist',\n",
       "  u'uri': u'spotify:artist:3OsRAKCvk37zwYcnzRf5XF'},\n",
       " {u'external_urls': {u'spotify': u'https://open.spotify.com/artist/2TXpVEw5FbzDh93tLoDm0i'},\n",
       "  u'followers': {u'href': None, u'total': None},\n",
       "  u'genres': [],\n",
       "  u'href': u'https://api.spotify.com/v1/artists/2TXpVEw5FbzDh93tLoDm0i',\n",
       "  u'id': u'2TXpVEw5FbzDh93tLoDm0i',\n",
       "  u'images': [{u'height': 1066,\n",
       "    u'url': u'https://i.scdn.co/image/0da5cf303cd393ba4808cac507a7e1375fbc737e',\n",
       "    u'width': 800},\n",
       "   {u'height': 853,\n",
       "    u'url': u'https://i.scdn.co/image/82f7b8bae95824fc6c1684efaf8a47d42fa55039',\n",
       "    u'width': 640},\n",
       "   {u'height': 267,\n",
       "    u'url': u'https://i.scdn.co/image/95505ffd88ea194e60d40c6bd59d169160b1a977',\n",
       "    u'width': 200},\n",
       "   {u'height': 85,\n",
       "    u'url': u'https://i.scdn.co/image/2677815dd6c247ff9857df5f6bc6a5e9d28929f4',\n",
       "    u'width': 64}],\n",
       "  u'name': u'Big Black Delta',\n",
       "  u'popularity': 46,\n",
       "  u'type': u'artist',\n",
       "  u'uri': u'spotify:artist:2TXpVEw5FbzDh93tLoDm0i'},\n",
       " {u'external_urls': {u'spotify': u'https://open.spotify.com/artist/2dI9IuajQnLR5dLxHjTTqU'},\n",
       "  u'followers': {u'href': None, u'total': None},\n",
       "  u'genres': [],\n",
       "  u'href': u'https://api.spotify.com/v1/artists/2dI9IuajQnLR5dLxHjTTqU',\n",
       "  u'id': u'2dI9IuajQnLR5dLxHjTTqU',\n",
       "  u'images': [{u'height': 650,\n",
       "    u'url': u'https://i.scdn.co/image/7f4bbdf08782ba5aa72b1745cda876f038063cc3',\n",
       "    u'width': 1000},\n",
       "   {u'height': 416,\n",
       "    u'url': u'https://i.scdn.co/image/e6635625ac3b0b7d410441020c7bd5ffd3f544cd',\n",
       "    u'width': 640},\n",
       "   {u'height': 130,\n",
       "    u'url': u'https://i.scdn.co/image/55f6720a4803312d4329e051a6873cf4d51f78a3',\n",
       "    u'width': 200},\n",
       "   {u'height': 42,\n",
       "    u'url': u'https://i.scdn.co/image/53cd94ada2714168d642544ba8b9715a8b2e3d5d',\n",
       "    u'width': 64}],\n",
       "  u'name': u'The Polish Ambassador',\n",
       "  u'popularity': 51,\n",
       "  u'type': u'artist',\n",
       "  u'uri': u'spotify:artist:2dI9IuajQnLR5dLxHjTTqU'},\n",
       " {u'external_urls': {u'spotify': u'https://open.spotify.com/artist/5aj3LEYRbuaabjjHkj5oE1'},\n",
       "  u'followers': {u'href': None, u'total': None},\n",
       "  u'genres': [u'big beat', u'electronic'],\n",
       "  u'href': u'https://api.spotify.com/v1/artists/5aj3LEYRbuaabjjHkj5oE1',\n",
       "  u'id': u'5aj3LEYRbuaabjjHkj5oE1',\n",
       "  u'images': [{u'height': 798,\n",
       "    u'url': u'https://i.scdn.co/image/42a64219885a3931903703920d68f5a9289fca79',\n",
       "    u'width': 1000},\n",
       "   {u'height': 511,\n",
       "    u'url': u'https://i.scdn.co/image/e1be0d2aedb9ea38dc54a2b39fcad46beaf86983',\n",
       "    u'width': 640},\n",
       "   {u'height': 160,\n",
       "    u'url': u'https://i.scdn.co/image/3d2d18e1b8c5b8aedfef9620e477aa72393c0220',\n",
       "    u'width': 200},\n",
       "   {u'height': 51,\n",
       "    u'url': u'https://i.scdn.co/image/3a0bc0307f68c988089d25a9317779f63e09da45',\n",
       "    u'width': 64}],\n",
       "  u'name': u'Death In Vegas',\n",
       "  u'popularity': 45,\n",
       "  u'type': u'artist',\n",
       "  u'uri': u'spotify:artist:5aj3LEYRbuaabjjHkj5oE1'},\n",
       " {u'external_urls': {u'spotify': u'https://open.spotify.com/artist/5wZOrGWdg4hq7KIRMupJdI'},\n",
       "  u'followers': {u'href': None, u'total': None},\n",
       "  u'genres': [],\n",
       "  u'href': u'https://api.spotify.com/v1/artists/5wZOrGWdg4hq7KIRMupJdI',\n",
       "  u'id': u'5wZOrGWdg4hq7KIRMupJdI',\n",
       "  u'images': [{u'height': 1200,\n",
       "    u'url': u'https://i.scdn.co/image/c821e19576720bf9bf6fb77e2c2dd3d108d82229',\n",
       "    u'width': 800},\n",
       "   {u'height': 960,\n",
       "    u'url': u'https://i.scdn.co/image/a48a7a005e990f05eb73111732cffe9e3deacf07',\n",
       "    u'width': 640},\n",
       "   {u'height': 300,\n",
       "    u'url': u'https://i.scdn.co/image/ea867ff55b1ea8662b7a67ec260b8cfc381996bb',\n",
       "    u'width': 200},\n",
       "   {u'height': 96,\n",
       "    u'url': u'https://i.scdn.co/image/1badc1c85359583177b08ea65847aa4ca8ac473e',\n",
       "    u'width': 64}],\n",
       "  u'name': u'Lone',\n",
       "  u'popularity': 44,\n",
       "  u'type': u'artist',\n",
       "  u'uri': u'spotify:artist:5wZOrGWdg4hq7KIRMupJdI'},\n",
       " {u'external_urls': {u'spotify': u'https://open.spotify.com/artist/6g0mn3tzAds6aVeUYRsryU'},\n",
       "  u'followers': {u'href': None, u'total': None},\n",
       "  u'genres': [],\n",
       "  u'href': u'https://api.spotify.com/v1/artists/6g0mn3tzAds6aVeUYRsryU',\n",
       "  u'id': u'6g0mn3tzAds6aVeUYRsryU',\n",
       "  u'images': [{u'height': 1000,\n",
       "    u'url': u'https://i.scdn.co/image/946cff66e966f18107b78489256fcec0aeea8ae3',\n",
       "    u'width': 1000},\n",
       "   {u'height': 640,\n",
       "    u'url': u'https://i.scdn.co/image/c62e890b9c621b72ad30414aa6371c887a74f1b4',\n",
       "    u'width': 640},\n",
       "   {u'height': 200,\n",
       "    u'url': u'https://i.scdn.co/image/cfc278c866bdba48be8399889931bb777eb73704',\n",
       "    u'width': 200},\n",
       "   {u'height': 64,\n",
       "    u'url': u'https://i.scdn.co/image/eaf9b360d827bccbb84856052eb988d70b85b9fe',\n",
       "    u'width': 64}],\n",
       "  u'name': u'The War On Drugs',\n",
       "  u'popularity': 60,\n",
       "  u'type': u'artist',\n",
       "  u'uri': u'spotify:artist:6g0mn3tzAds6aVeUYRsryU'},\n",
       " {u'external_urls': {u'spotify': u'https://open.spotify.com/artist/0jSIcdNjvPBgxYy7r9LCOw'},\n",
       "  u'followers': {u'href': None, u'total': None},\n",
       "  u'genres': [u'balearic'],\n",
       "  u'href': u'https://api.spotify.com/v1/artists/0jSIcdNjvPBgxYy7r9LCOw',\n",
       "  u'id': u'0jSIcdNjvPBgxYy7r9LCOw',\n",
       "  u'images': [{u'height': 640,\n",
       "    u'url': u'https://i.scdn.co/image/084958e7943e2aff39025dbfa7a68a5e05a1e10f',\n",
       "    u'width': 640},\n",
       "   {u'height': 300,\n",
       "    u'url': u'https://i.scdn.co/image/3f61889c09122480dc7b2598874ade91e8d8c68d',\n",
       "    u'width': 300},\n",
       "   {u'height': 64,\n",
       "    u'url': u'https://i.scdn.co/image/fa64dc1b41bbd3dd3ee1eb0ecc5e55f651a58fd6',\n",
       "    u'width': 64}],\n",
       "  u'name': u'Low Motion Disco',\n",
       "  u'popularity': 20,\n",
       "  u'type': u'artist',\n",
       "  u'uri': u'spotify:artist:0jSIcdNjvPBgxYy7r9LCOw'},\n",
       " {u'external_urls': {u'spotify': u'https://open.spotify.com/artist/5gqhueRUZEa7VDnQt4HODp'},\n",
       "  u'followers': {u'href': None, u'total': None},\n",
       "  u'genres': [],\n",
       "  u'href': u'https://api.spotify.com/v1/artists/5gqhueRUZEa7VDnQt4HODp',\n",
       "  u'id': u'5gqhueRUZEa7VDnQt4HODp',\n",
       "  u'images': [{u'height': 490,\n",
       "    u'url': u'https://i.scdn.co/image/e5aa0da96d202bded000497e8c82b4bac73bb2f9',\n",
       "    u'width': 730},\n",
       "   {u'height': 430,\n",
       "    u'url': u'https://i.scdn.co/image/c64f8806224c32841ad2d351f2e2de01d8baa8b1',\n",
       "    u'width': 640},\n",
       "   {u'height': 134,\n",
       "    u'url': u'https://i.scdn.co/image/91e3f18d887261f68ed68150479512de3e35c8ed',\n",
       "    u'width': 200},\n",
       "   {u'height': 43,\n",
       "    u'url': u'https://i.scdn.co/image/5d67d4000251c321e8fff62cc85af351525bcdf2',\n",
       "    u'width': 64}],\n",
       "  u'name': u'Nils Frahm',\n",
       "  u'popularity': 64,\n",
       "  u'type': u'artist',\n",
       "  u'uri': u'spotify:artist:5gqhueRUZEa7VDnQt4HODp'},\n",
       " {u'external_urls': {u'spotify': u'https://open.spotify.com/artist/0va8U409dr4gA1zQ2gSnD5'},\n",
       "  u'followers': {u'href': None, u'total': None},\n",
       "  u'genres': [u'vaporwave'],\n",
       "  u'href': u'https://api.spotify.com/v1/artists/0va8U409dr4gA1zQ2gSnD5',\n",
       "  u'id': u'0va8U409dr4gA1zQ2gSnD5',\n",
       "  u'images': [{u'height': 640,\n",
       "    u'url': u'https://i.scdn.co/image/f329e9fc6db4ca5894c49be38bd9b28b6d1e93a4',\n",
       "    u'width': 640},\n",
       "   {u'height': 300,\n",
       "    u'url': u'https://i.scdn.co/image/f12448b341ee5982d98d881d37b725a658652dec',\n",
       "    u'width': 300},\n",
       "   {u'height': 64,\n",
       "    u'url': u'https://i.scdn.co/image/026ea8ab1a83187eb6aaf91f9ef251c5646fd850',\n",
       "    u'width': 64}],\n",
       "  u'name': u'18 Carat Affair',\n",
       "  u'popularity': 42,\n",
       "  u'type': u'artist',\n",
       "  u'uri': u'spotify:artist:0va8U409dr4gA1zQ2gSnD5'},\n",
       " {u'external_urls': {u'spotify': u'https://open.spotify.com/artist/1NdtVeE5bQSYdF2HktpDVk'},\n",
       "  u'followers': {u'href': None, u'total': None},\n",
       "  u'genres': [],\n",
       "  u'href': u'https://api.spotify.com/v1/artists/1NdtVeE5bQSYdF2HktpDVk',\n",
       "  u'id': u'1NdtVeE5bQSYdF2HktpDVk',\n",
       "  u'images': [{u'height': 1000,\n",
       "    u'url': u'https://i.scdn.co/image/1f2f3599a9c23de61c0238cbac01f9b6418063cc',\n",
       "    u'width': 1000},\n",
       "   {u'height': 640,\n",
       "    u'url': u'https://i.scdn.co/image/060d28e9c80b8d44773ab93bccc9f915caaf5c45',\n",
       "    u'width': 640},\n",
       "   {u'height': 200,\n",
       "    u'url': u'https://i.scdn.co/image/f645f328eb53d3277c4e331889f15f264ed57857',\n",
       "    u'width': 200},\n",
       "   {u'height': 64,\n",
       "    u'url': u'https://i.scdn.co/image/50c2be2ee1da4d4568cc7631b16a4a949e9f8d24',\n",
       "    u'width': 64}],\n",
       "  u'name': u'Cash+David',\n",
       "  u'popularity': 38,\n",
       "  u'type': u'artist',\n",
       "  u'uri': u'spotify:artist:1NdtVeE5bQSYdF2HktpDVk'},\n",
       " {u'external_urls': {u'spotify': u'https://open.spotify.com/artist/47Z8LEl3LnQkcpva0xSthT'},\n",
       "  u'followers': {u'href': None, u'total': None},\n",
       "  u'genres': [u'britpop', u'madchester'],\n",
       "  u'href': u'https://api.spotify.com/v1/artists/47Z8LEl3LnQkcpva0xSthT',\n",
       "  u'id': u'47Z8LEl3LnQkcpva0xSthT',\n",
       "  u'images': [{u'height': 678,\n",
       "    u'url': u'https://i.scdn.co/image/e2657fa7789ec2be647b71076b46f980f7540c73',\n",
       "    u'width': 630},\n",
       "   {u'height': 215,\n",
       "    u'url': u'https://i.scdn.co/image/343fc49cebbb446e691a8ecc90f774505d2d05f8',\n",
       "    u'width': 200},\n",
       "   {u'height': 69,\n",
       "    u'url': u'https://i.scdn.co/image/ce8dc56bd25be81b243a145b5373a586bf205af0',\n",
       "    u'width': 64}],\n",
       "  u'name': u\"The La's\",\n",
       "  u'popularity': 50,\n",
       "  u'type': u'artist',\n",
       "  u'uri': u'spotify:artist:47Z8LEl3LnQkcpva0xSthT'}]"
      ]
     },
     "execution_count": 277,
     "metadata": {},
     "output_type": "execute_result"
    }
   ],
   "source": [
    "top_artists"
   ]
  },
  {
   "cell_type": "code",
   "execution_count": null,
   "metadata": {
    "collapsed": true
   },
   "outputs": [],
   "source": []
  }
 ],
 "metadata": {
  "kernelspec": {
   "display_name": "Python 2",
   "language": "python",
   "name": "python2"
  },
  "language_info": {
   "codemirror_mode": {
    "name": "ipython",
    "version": 2
   },
   "file_extension": ".py",
   "mimetype": "text/x-python",
   "name": "python",
   "nbconvert_exporter": "python",
   "pygments_lexer": "ipython2",
   "version": "2.7.11"
  }
 },
 "nbformat": 4,
 "nbformat_minor": 0
}
